{
 "cells": [
  {
   "cell_type": "markdown",
   "metadata": {},
   "source": [
    "# Cas Kaggle\n",
    "\n",
    "Pau Bernués Tejada, 1598103\n",
    "\n",
    "Link dataset Kaggle: https://www.kaggle.com/datasnaek/league-of-legends "
   ]
  },
  {
   "cell_type": "markdown",
   "metadata": {},
   "source": [
    "## Introducció\n",
    "\n",
    "El cas sobre el que es treballarà és una col·lecció de més de 50.000 partides del videojoc League of Legends, així com fitxers .json que contenen un mètode per convertir entre els ID d'encanteris de campió i invocador i els seus noms. Per a cada partida, hi ha atributs per a:\n",
    "> <ul>\n",
    "    > <li>ID de la partida.</li>\n",
    "    > <li>Temps de creació (en format Epoch).</li>\n",
    "    > <li>Durada de la partida (en segons).</li>\n",
    "    > <li>ID de temporada.</li>\n",
    "    > <li>Guanyador (1 = team1, 2 = team2).</li>\n",
    "    > <li>Primer baró, drac, torre, sang, inhibidor i Rift Herald (1 = team1, 2 = team2, 0 = none).</li>\n",
    "    > <li>Campions i encanteris d'invocador per a cada equip (emmagatzemats com a identificadors d'encanteris de campió i invocador de Riot).</li>\n",
    "    > <li>El nombre d'assassinats de torre, inhibidor, baró, drac i Rift Herald que té cada equip.</li>\n",
    "    > <li>Les 5 sancions de cada equip (de nou, s'utilitzen identificacions de campió).</li>\n",
    "> </ul>"
   ]
  },
  {
   "cell_type": "markdown",
   "metadata": {},
   "source": [
    "## Exploració i visualització de dades"
   ]
  },
  {
   "cell_type": "code",
   "execution_count": 2,
   "metadata": {},
   "outputs": [
    {
     "data": {
      "text/html": [
       "<div>\n",
       "<style scoped>\n",
       "    .dataframe tbody tr th:only-of-type {\n",
       "        vertical-align: middle;\n",
       "    }\n",
       "\n",
       "    .dataframe tbody tr th {\n",
       "        vertical-align: top;\n",
       "    }\n",
       "\n",
       "    .dataframe thead th {\n",
       "        text-align: right;\n",
       "    }\n",
       "</style>\n",
       "<table border=\"1\" class=\"dataframe\">\n",
       "  <thead>\n",
       "    <tr style=\"text-align: right;\">\n",
       "      <th></th>\n",
       "      <th>gameId</th>\n",
       "      <th>creationTime</th>\n",
       "      <th>gameDuration</th>\n",
       "      <th>seasonId</th>\n",
       "      <th>winner</th>\n",
       "      <th>firstBlood</th>\n",
       "      <th>firstTower</th>\n",
       "      <th>firstInhibitor</th>\n",
       "      <th>firstBaron</th>\n",
       "      <th>firstDragon</th>\n",
       "      <th>...</th>\n",
       "      <th>t2_towerKills</th>\n",
       "      <th>t2_inhibitorKills</th>\n",
       "      <th>t2_baronKills</th>\n",
       "      <th>t2_dragonKills</th>\n",
       "      <th>t2_riftHeraldKills</th>\n",
       "      <th>t2_ban1</th>\n",
       "      <th>t2_ban2</th>\n",
       "      <th>t2_ban3</th>\n",
       "      <th>t2_ban4</th>\n",
       "      <th>t2_ban5</th>\n",
       "    </tr>\n",
       "  </thead>\n",
       "  <tbody>\n",
       "    <tr>\n",
       "      <th>0</th>\n",
       "      <td>3326086514</td>\n",
       "      <td>1504279457970</td>\n",
       "      <td>1949</td>\n",
       "      <td>9</td>\n",
       "      <td>1</td>\n",
       "      <td>2</td>\n",
       "      <td>1</td>\n",
       "      <td>1</td>\n",
       "      <td>1</td>\n",
       "      <td>1</td>\n",
       "      <td>...</td>\n",
       "      <td>5</td>\n",
       "      <td>0</td>\n",
       "      <td>0</td>\n",
       "      <td>1</td>\n",
       "      <td>1</td>\n",
       "      <td>114</td>\n",
       "      <td>67</td>\n",
       "      <td>43</td>\n",
       "      <td>16</td>\n",
       "      <td>51</td>\n",
       "    </tr>\n",
       "    <tr>\n",
       "      <th>1</th>\n",
       "      <td>3229566029</td>\n",
       "      <td>1497848803862</td>\n",
       "      <td>1851</td>\n",
       "      <td>9</td>\n",
       "      <td>1</td>\n",
       "      <td>1</td>\n",
       "      <td>1</td>\n",
       "      <td>1</td>\n",
       "      <td>0</td>\n",
       "      <td>1</td>\n",
       "      <td>...</td>\n",
       "      <td>2</td>\n",
       "      <td>0</td>\n",
       "      <td>0</td>\n",
       "      <td>0</td>\n",
       "      <td>0</td>\n",
       "      <td>11</td>\n",
       "      <td>67</td>\n",
       "      <td>238</td>\n",
       "      <td>51</td>\n",
       "      <td>420</td>\n",
       "    </tr>\n",
       "    <tr>\n",
       "      <th>2</th>\n",
       "      <td>3327363504</td>\n",
       "      <td>1504360103310</td>\n",
       "      <td>1493</td>\n",
       "      <td>9</td>\n",
       "      <td>1</td>\n",
       "      <td>2</td>\n",
       "      <td>1</td>\n",
       "      <td>1</td>\n",
       "      <td>1</td>\n",
       "      <td>2</td>\n",
       "      <td>...</td>\n",
       "      <td>2</td>\n",
       "      <td>0</td>\n",
       "      <td>0</td>\n",
       "      <td>1</td>\n",
       "      <td>0</td>\n",
       "      <td>157</td>\n",
       "      <td>238</td>\n",
       "      <td>121</td>\n",
       "      <td>57</td>\n",
       "      <td>28</td>\n",
       "    </tr>\n",
       "    <tr>\n",
       "      <th>3</th>\n",
       "      <td>3326856598</td>\n",
       "      <td>1504348503996</td>\n",
       "      <td>1758</td>\n",
       "      <td>9</td>\n",
       "      <td>1</td>\n",
       "      <td>1</td>\n",
       "      <td>1</td>\n",
       "      <td>1</td>\n",
       "      <td>1</td>\n",
       "      <td>1</td>\n",
       "      <td>...</td>\n",
       "      <td>0</td>\n",
       "      <td>0</td>\n",
       "      <td>0</td>\n",
       "      <td>0</td>\n",
       "      <td>0</td>\n",
       "      <td>164</td>\n",
       "      <td>18</td>\n",
       "      <td>141</td>\n",
       "      <td>40</td>\n",
       "      <td>51</td>\n",
       "    </tr>\n",
       "    <tr>\n",
       "      <th>4</th>\n",
       "      <td>3330080762</td>\n",
       "      <td>1504554410899</td>\n",
       "      <td>2094</td>\n",
       "      <td>9</td>\n",
       "      <td>1</td>\n",
       "      <td>2</td>\n",
       "      <td>1</td>\n",
       "      <td>1</td>\n",
       "      <td>1</td>\n",
       "      <td>1</td>\n",
       "      <td>...</td>\n",
       "      <td>3</td>\n",
       "      <td>0</td>\n",
       "      <td>0</td>\n",
       "      <td>1</td>\n",
       "      <td>0</td>\n",
       "      <td>86</td>\n",
       "      <td>11</td>\n",
       "      <td>201</td>\n",
       "      <td>122</td>\n",
       "      <td>18</td>\n",
       "    </tr>\n",
       "  </tbody>\n",
       "</table>\n",
       "<p>5 rows × 61 columns</p>\n",
       "</div>"
      ],
      "text/plain": [
       "       gameId   creationTime  gameDuration  seasonId  winner  firstBlood  \\\n",
       "0  3326086514  1504279457970          1949         9       1           2   \n",
       "1  3229566029  1497848803862          1851         9       1           1   \n",
       "2  3327363504  1504360103310          1493         9       1           2   \n",
       "3  3326856598  1504348503996          1758         9       1           1   \n",
       "4  3330080762  1504554410899          2094         9       1           2   \n",
       "\n",
       "   firstTower  firstInhibitor  firstBaron  firstDragon  ...  t2_towerKills  \\\n",
       "0           1               1           1            1  ...              5   \n",
       "1           1               1           0            1  ...              2   \n",
       "2           1               1           1            2  ...              2   \n",
       "3           1               1           1            1  ...              0   \n",
       "4           1               1           1            1  ...              3   \n",
       "\n",
       "   t2_inhibitorKills  t2_baronKills  t2_dragonKills  t2_riftHeraldKills  \\\n",
       "0                  0              0               1                   1   \n",
       "1                  0              0               0                   0   \n",
       "2                  0              0               1                   0   \n",
       "3                  0              0               0                   0   \n",
       "4                  0              0               1                   0   \n",
       "\n",
       "   t2_ban1  t2_ban2  t2_ban3  t2_ban4  t2_ban5  \n",
       "0      114       67       43       16       51  \n",
       "1       11       67      238       51      420  \n",
       "2      157      238      121       57       28  \n",
       "3      164       18      141       40       51  \n",
       "4       86       11      201      122       18  \n",
       "\n",
       "[5 rows x 61 columns]"
      ]
     },
     "execution_count": 2,
     "metadata": {},
     "output_type": "execute_result"
    }
   ],
   "source": [
    "import pandas as pd\n",
    "\n",
    "df = pd.read_csv('games.csv', header=0, delimiter=',')\n",
    "df.head()"
   ]
  },
  {
   "cell_type": "markdown",
   "metadata": {},
   "source": [
    "Apliquem Exploratory Data Analysis per veure els detalls de la informació obtinguda:"
   ]
  },
  {
   "cell_type": "code",
   "execution_count": 3,
   "metadata": {},
   "outputs": [
    {
     "name": "stdout",
     "output_type": "stream",
     "text": [
      "<class 'pandas.core.frame.DataFrame'>\n",
      "RangeIndex: 51490 entries, 0 to 51489\n",
      "Data columns (total 61 columns):\n",
      " #   Column              Non-Null Count  Dtype\n",
      "---  ------              --------------  -----\n",
      " 0   gameId              51490 non-null  int64\n",
      " 1   creationTime        51490 non-null  int64\n",
      " 2   gameDuration        51490 non-null  int64\n",
      " 3   seasonId            51490 non-null  int64\n",
      " 4   winner              51490 non-null  int64\n",
      " 5   firstBlood          51490 non-null  int64\n",
      " 6   firstTower          51490 non-null  int64\n",
      " 7   firstInhibitor      51490 non-null  int64\n",
      " 8   firstBaron          51490 non-null  int64\n",
      " 9   firstDragon         51490 non-null  int64\n",
      " 10  firstRiftHerald     51490 non-null  int64\n",
      " 11  t1_champ1id         51490 non-null  int64\n",
      " 12  t1_champ1_sum1      51490 non-null  int64\n",
      " 13  t1_champ1_sum2      51490 non-null  int64\n",
      " 14  t1_champ2id         51490 non-null  int64\n",
      " 15  t1_champ2_sum1      51490 non-null  int64\n",
      " 16  t1_champ2_sum2      51490 non-null  int64\n",
      " 17  t1_champ3id         51490 non-null  int64\n",
      " 18  t1_champ3_sum1      51490 non-null  int64\n",
      " 19  t1_champ3_sum2      51490 non-null  int64\n",
      " 20  t1_champ4id         51490 non-null  int64\n",
      " 21  t1_champ4_sum1      51490 non-null  int64\n",
      " 22  t1_champ4_sum2      51490 non-null  int64\n",
      " 23  t1_champ5id         51490 non-null  int64\n",
      " 24  t1_champ5_sum1      51490 non-null  int64\n",
      " 25  t1_champ5_sum2      51490 non-null  int64\n",
      " 26  t1_towerKills       51490 non-null  int64\n",
      " 27  t1_inhibitorKills   51490 non-null  int64\n",
      " 28  t1_baronKills       51490 non-null  int64\n",
      " 29  t1_dragonKills      51490 non-null  int64\n",
      " 30  t1_riftHeraldKills  51490 non-null  int64\n",
      " 31  t1_ban1             51490 non-null  int64\n",
      " 32  t1_ban2             51490 non-null  int64\n",
      " 33  t1_ban3             51490 non-null  int64\n",
      " 34  t1_ban4             51490 non-null  int64\n",
      " 35  t1_ban5             51490 non-null  int64\n",
      " 36  t2_champ1id         51490 non-null  int64\n",
      " 37  t2_champ1_sum1      51490 non-null  int64\n",
      " 38  t2_champ1_sum2      51490 non-null  int64\n",
      " 39  t2_champ2id         51490 non-null  int64\n",
      " 40  t2_champ2_sum1      51490 non-null  int64\n",
      " 41  t2_champ2_sum2      51490 non-null  int64\n",
      " 42  t2_champ3id         51490 non-null  int64\n",
      " 43  t2_champ3_sum1      51490 non-null  int64\n",
      " 44  t2_champ3_sum2      51490 non-null  int64\n",
      " 45  t2_champ4id         51490 non-null  int64\n",
      " 46  t2_champ4_sum1      51490 non-null  int64\n",
      " 47  t2_champ4_sum2      51490 non-null  int64\n",
      " 48  t2_champ5id         51490 non-null  int64\n",
      " 49  t2_champ5_sum1      51490 non-null  int64\n",
      " 50  t2_champ5_sum2      51490 non-null  int64\n",
      " 51  t2_towerKills       51490 non-null  int64\n",
      " 52  t2_inhibitorKills   51490 non-null  int64\n",
      " 53  t2_baronKills       51490 non-null  int64\n",
      " 54  t2_dragonKills      51490 non-null  int64\n",
      " 55  t2_riftHeraldKills  51490 non-null  int64\n",
      " 56  t2_ban1             51490 non-null  int64\n",
      " 57  t2_ban2             51490 non-null  int64\n",
      " 58  t2_ban3             51490 non-null  int64\n",
      " 59  t2_ban4             51490 non-null  int64\n",
      " 60  t2_ban5             51490 non-null  int64\n",
      "dtypes: int64(61)\n",
      "memory usage: 24.0 MB\n"
     ]
    }
   ],
   "source": [
    "import warnings\n",
    "\n",
    "# Suprimir totes las FutureWarnings\n",
    "warnings.filterwarnings(\"ignore\", category=FutureWarning)\n",
    "\n",
    "df.info(verbose=True)"
   ]
  },
  {
   "cell_type": "markdown",
   "metadata": {},
   "source": [
    "Observem que el dataset conté un total de 51490 mostres i 61 atributs, dels quals tots son de tipus enter i no nuls. Si mirem la informació del Kaggle aquesta inicialment es pot associar de la següent manera:</br>\n",
    "> <ul>\n",
    "    > <li> gameId: l'ID de la partida.</li>\n",
    "    > <li> creationTime: temps de creació.</li>\n",
    "    > <li> gameDuration: durada de la partida.</li>\n",
    "    > <li> seasonID: ID de temporada.</li>\n",
    "    > <li> winner: guanyador.</li>\n",
    "    > <li> firstBaron, firstDragon, firstTower, firstBlood, firstInhibitor i firstRiftHerald: primer baró, drac, torre, sang, inhibidor i Rift Herald.</li>\n",
    "    > <li> t1_champ1id,  t1_champ1_sum1, t1_champ1_sum2, t1_champ5id, t1_champ5_sum1, t1_champ5_sum2 i t2_champ1id... als campions i encanteris d'invocador per a cada equip, t1 per equip 1 i t2 per l'equip 2.</li>\n",
    "    > <li> t1_towerKills, t1_inhibitorKills, t1_baronKills, t1_dragonKills, t1_riftHeraldKills i t2_towerKills, t2_inhibitorKills, t2_baronKills, t2_dragonKills, t2_riftHeraldKills al nombre d'assassinats de torre, inhibidor, baró, drac i Rift Herald que té cada equip.</li>\n",
    "    > <li> t1_ban1, [...], t1_ban5 i t2_ban1, [...], t2_ban5 a les 5 sancions de cada equip.</li>\n",
    "> </ul>"
   ]
  },
  {
   "cell_type": "markdown",
   "metadata": {},
   "source": [
    "Podem observar el resum estadístic de les diferents característiques del dataset:"
   ]
  },
  {
   "cell_type": "code",
   "execution_count": 4,
   "metadata": {},
   "outputs": [
    {
     "data": {
      "text/html": [
       "<div>\n",
       "<style scoped>\n",
       "    .dataframe tbody tr th:only-of-type {\n",
       "        vertical-align: middle;\n",
       "    }\n",
       "\n",
       "    .dataframe tbody tr th {\n",
       "        vertical-align: top;\n",
       "    }\n",
       "\n",
       "    .dataframe thead th {\n",
       "        text-align: right;\n",
       "    }\n",
       "</style>\n",
       "<table border=\"1\" class=\"dataframe\">\n",
       "  <thead>\n",
       "    <tr style=\"text-align: right;\">\n",
       "      <th></th>\n",
       "      <th>gameId</th>\n",
       "      <th>creationTime</th>\n",
       "      <th>gameDuration</th>\n",
       "      <th>seasonId</th>\n",
       "      <th>winner</th>\n",
       "      <th>firstBlood</th>\n",
       "      <th>firstTower</th>\n",
       "      <th>firstInhibitor</th>\n",
       "      <th>firstBaron</th>\n",
       "      <th>firstDragon</th>\n",
       "      <th>...</th>\n",
       "      <th>t2_towerKills</th>\n",
       "      <th>t2_inhibitorKills</th>\n",
       "      <th>t2_baronKills</th>\n",
       "      <th>t2_dragonKills</th>\n",
       "      <th>t2_riftHeraldKills</th>\n",
       "      <th>t2_ban1</th>\n",
       "      <th>t2_ban2</th>\n",
       "      <th>t2_ban3</th>\n",
       "      <th>t2_ban4</th>\n",
       "      <th>t2_ban5</th>\n",
       "    </tr>\n",
       "  </thead>\n",
       "  <tbody>\n",
       "    <tr>\n",
       "      <th>count</th>\n",
       "      <td>5.149000e+04</td>\n",
       "      <td>5.149000e+04</td>\n",
       "      <td>51490.000000</td>\n",
       "      <td>51490.0</td>\n",
       "      <td>51490.000000</td>\n",
       "      <td>51490.000000</td>\n",
       "      <td>51490.000000</td>\n",
       "      <td>51490.000000</td>\n",
       "      <td>51490.000000</td>\n",
       "      <td>51490.000000</td>\n",
       "      <td>...</td>\n",
       "      <td>51490.000000</td>\n",
       "      <td>51490.000000</td>\n",
       "      <td>51490.000000</td>\n",
       "      <td>51490.000000</td>\n",
       "      <td>51490.000000</td>\n",
       "      <td>51490.000000</td>\n",
       "      <td>51490.000000</td>\n",
       "      <td>51490.000000</td>\n",
       "      <td>51490.000000</td>\n",
       "      <td>51490.000000</td>\n",
       "    </tr>\n",
       "    <tr>\n",
       "      <th>mean</th>\n",
       "      <td>3.306223e+09</td>\n",
       "      <td>1.502926e+12</td>\n",
       "      <td>1832.362808</td>\n",
       "      <td>9.0</td>\n",
       "      <td>1.493552</td>\n",
       "      <td>1.471295</td>\n",
       "      <td>1.450631</td>\n",
       "      <td>1.308487</td>\n",
       "      <td>0.926510</td>\n",
       "      <td>1.442804</td>\n",
       "      <td>...</td>\n",
       "      <td>5.549466</td>\n",
       "      <td>0.985084</td>\n",
       "      <td>0.414547</td>\n",
       "      <td>1.404370</td>\n",
       "      <td>0.240105</td>\n",
       "      <td>108.216294</td>\n",
       "      <td>107.910216</td>\n",
       "      <td>108.690581</td>\n",
       "      <td>108.626044</td>\n",
       "      <td>108.066576</td>\n",
       "    </tr>\n",
       "    <tr>\n",
       "      <th>std</th>\n",
       "      <td>2.946096e+07</td>\n",
       "      <td>1.978026e+09</td>\n",
       "      <td>512.017696</td>\n",
       "      <td>0.0</td>\n",
       "      <td>0.499963</td>\n",
       "      <td>0.520326</td>\n",
       "      <td>0.542848</td>\n",
       "      <td>0.676097</td>\n",
       "      <td>0.841424</td>\n",
       "      <td>0.569579</td>\n",
       "      <td>...</td>\n",
       "      <td>3.860989</td>\n",
       "      <td>1.256284</td>\n",
       "      <td>0.613768</td>\n",
       "      <td>1.224492</td>\n",
       "      <td>0.427151</td>\n",
       "      <td>102.551787</td>\n",
       "      <td>102.870710</td>\n",
       "      <td>102.592145</td>\n",
       "      <td>103.346952</td>\n",
       "      <td>102.756149</td>\n",
       "    </tr>\n",
       "    <tr>\n",
       "      <th>min</th>\n",
       "      <td>3.214824e+09</td>\n",
       "      <td>1.496892e+12</td>\n",
       "      <td>190.000000</td>\n",
       "      <td>9.0</td>\n",
       "      <td>1.000000</td>\n",
       "      <td>0.000000</td>\n",
       "      <td>0.000000</td>\n",
       "      <td>0.000000</td>\n",
       "      <td>0.000000</td>\n",
       "      <td>0.000000</td>\n",
       "      <td>...</td>\n",
       "      <td>0.000000</td>\n",
       "      <td>0.000000</td>\n",
       "      <td>0.000000</td>\n",
       "      <td>0.000000</td>\n",
       "      <td>0.000000</td>\n",
       "      <td>-1.000000</td>\n",
       "      <td>-1.000000</td>\n",
       "      <td>-1.000000</td>\n",
       "      <td>-1.000000</td>\n",
       "      <td>-1.000000</td>\n",
       "    </tr>\n",
       "    <tr>\n",
       "      <th>25%</th>\n",
       "      <td>3.292218e+09</td>\n",
       "      <td>1.502021e+12</td>\n",
       "      <td>1531.000000</td>\n",
       "      <td>9.0</td>\n",
       "      <td>1.000000</td>\n",
       "      <td>1.000000</td>\n",
       "      <td>1.000000</td>\n",
       "      <td>1.000000</td>\n",
       "      <td>0.000000</td>\n",
       "      <td>1.000000</td>\n",
       "      <td>...</td>\n",
       "      <td>2.000000</td>\n",
       "      <td>0.000000</td>\n",
       "      <td>0.000000</td>\n",
       "      <td>0.000000</td>\n",
       "      <td>0.000000</td>\n",
       "      <td>38.000000</td>\n",
       "      <td>37.000000</td>\n",
       "      <td>38.000000</td>\n",
       "      <td>38.000000</td>\n",
       "      <td>38.000000</td>\n",
       "    </tr>\n",
       "    <tr>\n",
       "      <th>50%</th>\n",
       "      <td>3.320021e+09</td>\n",
       "      <td>1.503844e+12</td>\n",
       "      <td>1833.000000</td>\n",
       "      <td>9.0</td>\n",
       "      <td>1.000000</td>\n",
       "      <td>1.000000</td>\n",
       "      <td>1.000000</td>\n",
       "      <td>1.000000</td>\n",
       "      <td>1.000000</td>\n",
       "      <td>1.000000</td>\n",
       "      <td>...</td>\n",
       "      <td>6.000000</td>\n",
       "      <td>0.000000</td>\n",
       "      <td>0.000000</td>\n",
       "      <td>1.000000</td>\n",
       "      <td>0.000000</td>\n",
       "      <td>90.000000</td>\n",
       "      <td>90.000000</td>\n",
       "      <td>90.000000</td>\n",
       "      <td>90.000000</td>\n",
       "      <td>90.000000</td>\n",
       "    </tr>\n",
       "    <tr>\n",
       "      <th>75%</th>\n",
       "      <td>3.327099e+09</td>\n",
       "      <td>1.504352e+12</td>\n",
       "      <td>2148.000000</td>\n",
       "      <td>9.0</td>\n",
       "      <td>2.000000</td>\n",
       "      <td>2.000000</td>\n",
       "      <td>2.000000</td>\n",
       "      <td>2.000000</td>\n",
       "      <td>2.000000</td>\n",
       "      <td>2.000000</td>\n",
       "      <td>...</td>\n",
       "      <td>9.000000</td>\n",
       "      <td>2.000000</td>\n",
       "      <td>1.000000</td>\n",
       "      <td>2.000000</td>\n",
       "      <td>0.000000</td>\n",
       "      <td>141.000000</td>\n",
       "      <td>141.000000</td>\n",
       "      <td>141.000000</td>\n",
       "      <td>141.000000</td>\n",
       "      <td>141.000000</td>\n",
       "    </tr>\n",
       "    <tr>\n",
       "      <th>max</th>\n",
       "      <td>3.331833e+09</td>\n",
       "      <td>1.504707e+12</td>\n",
       "      <td>4728.000000</td>\n",
       "      <td>9.0</td>\n",
       "      <td>2.000000</td>\n",
       "      <td>2.000000</td>\n",
       "      <td>2.000000</td>\n",
       "      <td>2.000000</td>\n",
       "      <td>2.000000</td>\n",
       "      <td>2.000000</td>\n",
       "      <td>...</td>\n",
       "      <td>11.000000</td>\n",
       "      <td>10.000000</td>\n",
       "      <td>4.000000</td>\n",
       "      <td>6.000000</td>\n",
       "      <td>1.000000</td>\n",
       "      <td>516.000000</td>\n",
       "      <td>516.000000</td>\n",
       "      <td>516.000000</td>\n",
       "      <td>516.000000</td>\n",
       "      <td>516.000000</td>\n",
       "    </tr>\n",
       "  </tbody>\n",
       "</table>\n",
       "<p>8 rows × 61 columns</p>\n",
       "</div>"
      ],
      "text/plain": [
       "             gameId  creationTime  gameDuration  seasonId        winner  \\\n",
       "count  5.149000e+04  5.149000e+04  51490.000000   51490.0  51490.000000   \n",
       "mean   3.306223e+09  1.502926e+12   1832.362808       9.0      1.493552   \n",
       "std    2.946096e+07  1.978026e+09    512.017696       0.0      0.499963   \n",
       "min    3.214824e+09  1.496892e+12    190.000000       9.0      1.000000   \n",
       "25%    3.292218e+09  1.502021e+12   1531.000000       9.0      1.000000   \n",
       "50%    3.320021e+09  1.503844e+12   1833.000000       9.0      1.000000   \n",
       "75%    3.327099e+09  1.504352e+12   2148.000000       9.0      2.000000   \n",
       "max    3.331833e+09  1.504707e+12   4728.000000       9.0      2.000000   \n",
       "\n",
       "         firstBlood    firstTower  firstInhibitor    firstBaron   firstDragon  \\\n",
       "count  51490.000000  51490.000000    51490.000000  51490.000000  51490.000000   \n",
       "mean       1.471295      1.450631        1.308487      0.926510      1.442804   \n",
       "std        0.520326      0.542848        0.676097      0.841424      0.569579   \n",
       "min        0.000000      0.000000        0.000000      0.000000      0.000000   \n",
       "25%        1.000000      1.000000        1.000000      0.000000      1.000000   \n",
       "50%        1.000000      1.000000        1.000000      1.000000      1.000000   \n",
       "75%        2.000000      2.000000        2.000000      2.000000      2.000000   \n",
       "max        2.000000      2.000000        2.000000      2.000000      2.000000   \n",
       "\n",
       "       ...  t2_towerKills  t2_inhibitorKills  t2_baronKills  t2_dragonKills  \\\n",
       "count  ...   51490.000000       51490.000000   51490.000000    51490.000000   \n",
       "mean   ...       5.549466           0.985084       0.414547        1.404370   \n",
       "std    ...       3.860989           1.256284       0.613768        1.224492   \n",
       "min    ...       0.000000           0.000000       0.000000        0.000000   \n",
       "25%    ...       2.000000           0.000000       0.000000        0.000000   \n",
       "50%    ...       6.000000           0.000000       0.000000        1.000000   \n",
       "75%    ...       9.000000           2.000000       1.000000        2.000000   \n",
       "max    ...      11.000000          10.000000       4.000000        6.000000   \n",
       "\n",
       "       t2_riftHeraldKills       t2_ban1       t2_ban2       t2_ban3  \\\n",
       "count        51490.000000  51490.000000  51490.000000  51490.000000   \n",
       "mean             0.240105    108.216294    107.910216    108.690581   \n",
       "std              0.427151    102.551787    102.870710    102.592145   \n",
       "min              0.000000     -1.000000     -1.000000     -1.000000   \n",
       "25%              0.000000     38.000000     37.000000     38.000000   \n",
       "50%              0.000000     90.000000     90.000000     90.000000   \n",
       "75%              0.000000    141.000000    141.000000    141.000000   \n",
       "max              1.000000    516.000000    516.000000    516.000000   \n",
       "\n",
       "            t2_ban4       t2_ban5  \n",
       "count  51490.000000  51490.000000  \n",
       "mean     108.626044    108.066576  \n",
       "std      103.346952    102.756149  \n",
       "min       -1.000000     -1.000000  \n",
       "25%       38.000000     38.000000  \n",
       "50%       90.000000     90.000000  \n",
       "75%      141.000000    141.000000  \n",
       "max      516.000000    516.000000  \n",
       "\n",
       "[8 rows x 61 columns]"
      ]
     },
     "execution_count": 4,
     "metadata": {},
     "output_type": "execute_result"
    }
   ],
   "source": [
    "df.describe()"
   ]
  },
  {
   "cell_type": "markdown",
   "metadata": {},
   "source": [
    "## Preprocessament de dades"
   ]
  },
  {
   "cell_type": "markdown",
   "metadata": {},
   "source": [
    "Abans de triar un model, hem de fer un preprocessament de les dades del nostre dataset. En aquest processament, farem els següents passos:\n",
    "<ul>\n",
    "    <li>Mostreig de dades</li>\n",
    "    <li>Conversió de dades</li>\n",
    "    <li>Neteja de dades</li>\n",
    "    <li>Normalització de dades</li>\n",
    "</ul>"
   ]
  },
  {
   "cell_type": "markdown",
   "metadata": {},
   "source": [
    "### Mostreig de dades\n",
    "\n",
    "Comencem buscant columnes innecessàries. Començariem buscant columnes amb alt grau de nans, però com que aquest dataset no conté nans, no cal.\n",
    "A continuació busquem les columnes o atributs que tinguin valors constants:"
   ]
  },
  {
   "cell_type": "code",
   "execution_count": 5,
   "metadata": {},
   "outputs": [
    {
     "name": "stdout",
     "output_type": "stream",
     "text": [
      "Atributs amb valors constants: ['seasonId']\n"
     ]
    }
   ],
   "source": [
    "def constant(df):\n",
    "    df_np = df.to_numpy()\n",
    "    return (df_np[0] == df_np).all()\n",
    "\n",
    "atributs = []\n",
    "for i in range(df.shape[1]):\n",
    "    constants = constant(df[df.columns.values[i]])\n",
    "    if (constants):\n",
    "        atributs.append(df.columns.values[i])\n",
    "\n",
    "print('Atributs amb valors constants:', atributs)"
   ]
  },
  {
   "cell_type": "markdown",
   "metadata": {},
   "source": [
    "Com podem veure, només la columna de `seasonId` conté valors constants. Com que no afectarà al model, podem eliminar-la."
   ]
  },
  {
   "cell_type": "code",
   "execution_count": 6,
   "metadata": {},
   "outputs": [],
   "source": [
    "df = df.drop(atributs[0], axis=1)"
   ]
  },
  {
   "cell_type": "markdown",
   "metadata": {},
   "source": [
    "Ara mirem si hi ha mostres duplicades al dataset, i les eliminem:"
   ]
  },
  {
   "cell_type": "code",
   "execution_count": 7,
   "metadata": {},
   "outputs": [
    {
     "name": "stdout",
     "output_type": "stream",
     "text": [
      "Nombre de mostres duplicades: 437\n"
     ]
    }
   ],
   "source": [
    "mostres = []\n",
    "duplicades = df.duplicated().values\n",
    "for i in range(duplicades.shape[0]):\n",
    "    if (duplicades[i]):\n",
    "        mostres.append(i)\n",
    "\n",
    "print('Nombre de mostres duplicades:', len(mostres))"
   ]
  },
  {
   "cell_type": "code",
   "execution_count": 8,
   "metadata": {},
   "outputs": [
    {
     "data": {
      "text/plain": [
       "(51053, 60)"
      ]
     },
     "execution_count": 8,
     "metadata": {},
     "output_type": "execute_result"
    }
   ],
   "source": [
    "df.drop_duplicates(inplace=True)\n",
    "df.shape"
   ]
  },
  {
   "cell_type": "markdown",
   "metadata": {},
   "source": [
    "Podem veure que, un cop eliminades, la quantitat de mostres passa de 51490 a 51053."
   ]
  },
  {
   "cell_type": "markdown",
   "metadata": {},
   "source": [
    "### Neteja de dades\n",
    "\n",
    "Tot seguit, tractarem el valors que son incorrectes, que s'han perdut o bé que es troben fora de rang (outliers). \n",
    "Alguns dels atributs tenen un rang de valors atribuït (categòrics) especificat en la descripció del Kaggle. Tot seguit, comprovem quants valors únics té cada atribut:"
   ]
  },
  {
   "cell_type": "code",
   "execution_count": 9,
   "metadata": {},
   "outputs": [
    {
     "name": "stdout",
     "output_type": "stream",
     "text": [
      "gameId : [3326086514 3229566029 3327363504 ... 3322765040 3256675373 3317333020]\n",
      "creationTime : [1504279457970 1497848803862 1504360103310 ... 1504029863961 1499562036246\n",
      " 1503612754059]\n",
      "gameDuration : [1949 1851 1493 ... 3373  585 3304]\n",
      "winner : [1 2]\n",
      "firstBlood : [2 1 0]\n",
      "firstTower : [1 2 0]\n",
      "firstInhibitor : [1 0 2]\n",
      "firstBaron : [1 0 2]\n",
      "firstDragon : [1 2 0]\n",
      "firstRiftHerald : [2 1 0]\n",
      "t1_champ1id : [  8 119  18  57  19  40  74 150 111 427  99  22  79 143  23  67 114 222\n",
      " 421 134 238  96 122 498  41  78 412 497  24 157  25  35 240  43  92  85\n",
      " 126  63  69  10  11  21 420  61  75 141 245 103 105  59 254   5  15  45\n",
      " 106  81 131 236 201  48   9  31 117   4  64  28  82 101 268  27  62  53\n",
      " 432 115  86 516  54 163   3 110  13  37  29  38 266  33  90 121   1  80\n",
      " 120 113  16 267  12 161  17  34 107  51  76  42  58 202   7  60  91  89\n",
      "  44   2   6  83 203 102 127  39 164  98  55  84  30 104 133  26  77 223\n",
      "  32 429 112  36  14 154  68  20  50  72  56 136]\n",
      "t1_champ1_sum1 : [12  7  4  3 11 14 21  6  1]\n",
      "t1_champ1_sum2 : [ 4  7 12  3 21 11 14  6  1]\n",
      "t1_champ2id : [432  39 141  63  29  17 498  57  11 236   4 105   7 103  55  40  81  64\n",
      "  42  36 117 429  28  23 112  31 157  21  89  84  18 412   2  37 201  96\n",
      " 119  79 497 245  90  48  53 238  22  59 240  33  19  85  60  75   9  44\n",
      "  98 267  10  16 122  76  43 254  68 110 150 134 163  41  45  74 222  67\n",
      "  51   5 136  77 121  25  99  58  12 133  15 202 107  56 127 102 111 516\n",
      "  38  61   1  92 106  86   6 427  54  27  30  14 114  24  91 115  26  80\n",
      "   8 131   3 223 113 421 203  50 420  13 101  34  83 161 104  69 126 266\n",
      "  62 143  82  32 154 164  35 120  78 268  20  72]\n",
      "t1_champ2_sum1 : [ 3 12 11  4  7 14 21  6  1]\n",
      "t1_champ2_sum2 : [ 4 14 12 11  7  3  6 21  1]\n",
      "t1_champ3id : [ 96  76 267  29  40  24 412  16  18  75 143  33  86 421 498 268  44  59\n",
      "  32  79   7 105 222  22  37 150  19 157  57  62  21  10  61   5  34 238\n",
      "  69   1  64  12 432  91 154 429  45  55 202  48  51  81   3 106  89 161\n",
      " 121 201 120  99 114  67 103  98  53 115  82 141 117  85 266  11  90 111\n",
      " 134 119  92  80 102   9  17  14 245 516  58 163 236 420  15 113  31 107\n",
      "  27  54  39  68 131  41  26 101  84  42  38 126 223  78  23  63 112 110\n",
      " 164  25  50 497  83  30 427 254   6   4  36  20  28  56  60 240 122   8\n",
      "  35  13   2 203  72  74 127  43 136  77 104 133]\n",
      "t1_champ3_sum1 : [ 4  3 12  7 11 14 21  1  6]\n",
      "t1_champ3_sum2 : [ 7  3  4 12 21 11 14  1  6]\n",
      "t1_champ4id : [ 11  10  68  61 119  45  18  90 267 429  57 157  37  24  92  32   5 245\n",
      "  89  29 104   4  23  60   9  51  16 161  63 134 498 412  14  31 202 117\n",
      " 222  22 164 238  64  15 143  99 105  38  80  33  98 141 112 163  26  75\n",
      "  36 103  12  21  67 122  25 240 101 110  77 254  40  84 497 420 113 421\n",
      "  35  27 236  69 114  44  91 201  74  53 111   2 432  19 121  79  58  55\n",
      " 136  17 268  48  39  96 131  59 203 115 150 516 126  42  28   1  86  85\n",
      "  78  54   3   7 106  81 154  43 127  83 427  41 223  34 102  62  13 266\n",
      "  72  56  30  20 133  76   6   8 107  82 120  50]\n",
      "t1_champ4_sum1 : [11  4  3  7 12 14  6 21  1]\n",
      "t1_champ4_sum2 : [ 6 14 12  1  7  4  3 11 21]\n",
      "t1_champ5id : [112  35  38  36 134  67  57  79 161 131 111  53  22  51 141  16  92 245\n",
      "  39 497 119   6   9  45 412  84  76 157  90  33  14  12  13 254 103  60\n",
      " 107 201  41 222  17  83  99  25 429  24 164 120 136  10  69  89 498 202\n",
      " 117  64  29 163  40  50  77 240 110   1  54  75  72  18  91  37 113   7\n",
      "  23 105   8  31  11 121  55  59  42  15 516  68 238   5  19 104 106   3\n",
      "  81  21  56 236  48  86  80   4 150  61  98 203  85 127 122  27  43  58\n",
      " 267 126  44  62 223 102  96  20 432   2  26  78 420 143 114 133  34  82\n",
      " 154  30 421 268  74 101  32  63 427 266 115  28]\n",
      "t1_champ5_sum1 : [ 4 12 11  7  3 14  6 21  1]\n",
      "t1_champ5_sum2 : [14 11  4  7  3 12  6 21  1]\n",
      "t1_towerKills : [11 10  8  9  6  0  7  3  4  5  2  1]\n",
      "t1_inhibitorKills : [ 1  4  2  0  6  3  5  7  8  9 10]\n",
      "t1_baronKills : [2 0 1 3 4 5]\n",
      "t1_dragonKills : [3 2 1 0 4 5 6]\n",
      "t1_riftHeraldKills : [0 1]\n",
      "t1_ban1 : [ 92  51 117 238  90 157 154  31 114  45 516 141   8 245  29  96  48   6\n",
      "  53  40  61  67  19 122  55 119  18  74  59   1  38  16 105  22  64  57\n",
      " 150  86  33 420  63 236 202  79  80 412  28  10 134  35  -1  89 266  54\n",
      "  69 103   5   7  14  91 498  41  11 113  58 268  25  21  20 201 427  75\n",
      "  85  81 240  60  17 429 126  84  27 102 107  23 254  82  32  24 121   3\n",
      " 164  99  34 432 497  36 131  39 101 143 110 133  72 104  98   2  76  56\n",
      " 136  13  83  37  42 267  12  44 120   9  68  77 111  50 163 115  62 127\n",
      " 421 106 223  15   4 222  43 112  26  78 161 203  30]\n",
      "t1_ban2 : [ 40 122  67  64   6  11  19 117 238  92  99 412   7 134  29 150 119  18\n",
      "  17  57 254  33 157 113 141  31  53  60  21  91  22 498  75  16 114 154\n",
      "  96 103  61 105  84 201  23 164 202  35   1  38   5  51 115   8  89 516\n",
      "  39  -1  54   2  36  63 121 266 163 106 236  69  25  90  24  55  59 240\n",
      " 497   9 143  42  37 420  81  27  86   3 245 131  83  80  85  12  45 432\n",
      "  43 267 427  26 429 120 222  68 136  50 421 126  76 268  56 223  74  41\n",
      "  79  15  34  58  78  28 107 161  20  13  62  32  10 104 133  44  82 102\n",
      "  77  30 101 111 127  48  14  98  72 110   4 203 112]\n",
      "t1_ban3 : [ 69  17  29 516 412 238 141 157  31 164  79   1  80   3 150 113 154  61\n",
      "  38 245  92 105 117  18 136  63 236  25  19   8  89  64  53 126 122 133\n",
      "   7 119  40  57 114  39  67  51 143  75  11  24  33  54  90 267  55 121\n",
      "  30 420  23   6  41 131  58 134  99 102  16  86 498  85  91  84 497  35\n",
      " 103  45  -1 240  81 106  96  10  60  34 201 202  98  12   5  62  74 107\n",
      " 254  21 266  27  22  42  59  32  44 223 421  28 429  83  20 120 432 268\n",
      "  37  36 427  15  50  77 161 222 127  14  68  72   2  26  82   4  13  56\n",
      " 111 101 110  43 104  78 163 115   9 112 203  48  76]\n",
      "t1_ban4 : [119 498  16 114  25 122  32  29 126  17  67 141  51  90  31   7 154 157\n",
      "  53 238 117  24 134  18   6  23  40  80 103  35  84  -1  21  92 121  37\n",
      "  69 202  11 222  34 516 143  64  22  59 105  55  61 201  75  57 245   3\n",
      "  86  19  99 150 113  38 131  10 497  45 236   8 421   1 164 240  33  63\n",
      "  58   5 115 429  79  85  15 420   2  39 412  28  89  60 266  50  96  41\n",
      "  13 136  56  74 107  43 104 268  91 161  76  62 223  12  72  78 133  68\n",
      "  81  83 106 254 427 102   4 112  82  36  48  30  20  54  42 432 110  98\n",
      " 101 163 120  27  14 267   9  26 111  44 127  77 203]\n",
      "t1_ban5 : [141  19  53  31 105  35  18 157 119  85 420  63  29   8 117  69   3  51\n",
      "  28 238  16  75  34  79  83 412 134 114  40  90  57 122  64 154  60  67\n",
      "  21  92 498 120 161  55  86  23 121   7 516  38  61  11 164  82  25   6\n",
      "   9  24  42  89 429 131  33 126 143  59 103   1 150 421   5 266  50  84\n",
      " 104 497  91  58 201 202  17  32 113 267  45 245  -1  74  36 268 110  62\n",
      "  80  14  39  81  96  10  68  98 254 236 427  27 240 107  41  76 115 222\n",
      "   2  12  20  37  99 112 136  44 106  43  15 203  26  54 223 127  22 102\n",
      "  56 432 111 133  48  30  13   4 163  78  77 101  72]\n",
      "t2_champ1id : [104  54  69  90  37  92  53 112  29  35   7 432  15   1  99  40 105  31\n",
      "  50 119 117 131  23 498 101 163  27 164  79  91   3  75   4   5  67  21\n",
      "  48  25 143  16 497  24 157  44 114  58 103  18  12  22  19  98  51 516\n",
      " 254  61 141  34  74 236  11   6  20 222  10 134  96  59  55  64  84 107\n",
      "  26 267 121   8 202  57 245  17  86   2 412 238 122  89  85  43 420 110\n",
      "  62  33  28  81 154 106 102 240  60 115 201 429 126  42   9 113  80  63\n",
      "  36  83  68 111 223  39  56 161 427 120  45  41  38  77  13 268  14  32\n",
      " 421 133  78 150 203  30 127 266  72  76  82 136]\n",
      "t2_champ1_sum1 : [11  4 14  3  7 12 21  1  6]\n",
      "t2_champ1_sum2 : [ 4 12  7 14 11  3  6 21  1]\n",
      "t2_champ2id : [498  25 412  19  59  15  21  64 110  10 114  40 113  37  17 267  67  86\n",
      "  31 150 122 429  51 432  92   5 238  44  45 141 154   6  91 236  29  18\n",
      "  61 202 134  81 497 222 163  12 111  79  98  24   1  68  54 106  57  89\n",
      "  58 103 157  60  22  11  16 121 245  62 105  69 420  38  80 421  41  14\n",
      "   8 131 516  42 117  63 427  48  75 164 120 223  50  99 254  90  55  96\n",
      "  23 240  33   4   7  27  39 161 102 126 104  32  20 115 119  34  84  77\n",
      "   9  83  53  36 112  74 101 107  28  43 201 133  85 143  78 268   3 266\n",
      "  35  26  82 203  13   2  76  56  72  30 136 127]\n",
      "t2_champ2_sum1 : [ 4 14 11 12  7  3 21  1  6]\n",
      "t2_champ2_sum2 : [ 7 14  4 12  3 11 21  6  1]\n",
      "t2_champ3id : [122 120 126 412 141 245 114 497  99  74 105  32 238 202 134  15  23  63\n",
      "  41 104 222 150  67  29  61  77 117  59  90 201  18  83 223 143 110  81\n",
      "  69  60  50  13  19  24  25  79  51 254  56 131  31  92  57   6 133 157\n",
      "   5 112  11  43   7  37 113  53 498  58  89  84  20  17  44 429 115  22\n",
      "  64  12  80  21  39 111 420  36 121  34  96  40 161  98  16  75  27   3\n",
      "  14  38  45 106  76 432 267  54 107  42  48 164 102  55 266 119 236  91\n",
      " 103   2  72   1   4  68  78 268  86 163  85  26 154 427   8  35 203  33\n",
      " 127 516 101   9  30  62  10 240  28  82 421 136]\n",
      "t2_champ3_sum1 : [ 6 11  4 12 14 21  7  3  1]\n",
      "t2_champ3_sum2 : [ 4 12  3 14 11  7  6 21  1]\n",
      "t2_champ4id : [238 157  24  92  38   2 161  67 141  99  18 101  11  81 103  16  61  59\n",
      " 121  44  40 412  50  89  22  96  64 110  79  75  45  29  76  15 143 122\n",
      "   1  53 117 113  20  35 111 202   5 240 236 245 201 498 119  62  69  82\n",
      "  91 222 112 134  86   8  57  77  55 267 516   6  78   3  21  25 268 429\n",
      " 432 150 497  33  32  27 427 114 223 115  54  43  31  37 107   4  90  23\n",
      " 254  17 131 163 105  39  98  63  80 420  68  19 266  56  84  34 120  41\n",
      "  60 104   9 106  10  85   7  14  42  51 203  28 102  12  72 133  83 154\n",
      "  26  74  13 126 164 421  48 136  58  30  36 127]\n",
      "t2_champ4_sum1 : [14  4 21  3  7 11 12  1  6]\n",
      "t2_champ4_sum2 : [ 4 14 11 12  7  3  1  6 21]\n",
      "t2_champ5id : [412  92  22  51  12  19  57  63  86  89  21   5  84  29 150  82 222 236\n",
      "   4  17  74  56  53  24  96   7 117 429 122   9  33  99  64 245  23 254\n",
      " 127  40 113 163 131  45  81 161  18  55  61  69 497 134 421 427 141 112\n",
      "  54 267  80  75 202  59  79  10 164 119  38  16  39  43  90 126  85 516\n",
      " 157  37  98 104 498 143   6  60  62  58 238  15 201  41  42  35  32  14\n",
      " 103 107 154 223 114 111  25  76  34  20 432  83   1  67 110  26 105  28\n",
      "  31  68  91  78 121 268 106  11   2 115  50   3  44  27 120  72 203   8\n",
      "  48  77  36 101 240  13 266 136  30 420 102 133]\n",
      "t2_champ5_sum1 : [ 4  7 11 14 12  3 21  1  6]\n",
      "t2_champ5_sum2 : [ 3  7  4 14 12 11  6 21  1]\n",
      "t2_towerKills : [ 5  2  0  3  6  8 10  9 11  7  1  4]\n",
      "t2_inhibitorKills : [ 0  1  3  2  4  5  6  7 10  8  9]\n",
      "t2_baronKills : [0 1 2 3 4]\n",
      "t2_dragonKills : [1 0 3 2 4 5 6]\n",
      "t2_riftHeraldKills : [1 0]\n",
      "t2_ban1 : [114  11 157 164  86 119  75  28  64  19 103 143 154  31  53  18 141 117\n",
      "  24 113  72 429  92  38 516  51  23  40  55   8 122  43   7 201 267  90\n",
      "  29  91  37 134   1 238  58  17   5  99  67  25 498  21 222 105   4  61\n",
      "  57 245  33 240  79 111 150  84  -1  62  41  16  60 236 121 420   6  34\n",
      "  39 412 115 131   3  63 126 427  12  20 202  59 102  89  83  81  45 497\n",
      "  74  82  96 163 223  54  85   9 107 161  32  80  36  69  26 127  50  76\n",
      "  35  68  22 266  15 432  27  10 421 120 104 254 101  42 110 203  14 136\n",
      " 112  78 268   2  30  44  98 133  56  13  48 106  77]\n",
      "t2_ban2 : [ 67 238  18  11 134  42  38  51 141  74 154  64 498 117   1  54  20 122\n",
      "  61  96  17 113  55  91 121  53  40  57 157   7 516 429 114 497  75  31\n",
      "  59  60  86   6 119  19  63  28  81  24 131  -1 105  78 412  80 427  29\n",
      "  92 150 245  23 222  58   5 112  16 420 163  41  76  33  84  90  21  45\n",
      " 127   8 240  85  27 103 164  25  69  34  83 236   3  89 202 268  79  39\n",
      "  26 120 143 115  22 102  50  32  35  15 101 254  12 201 266 126 111  99\n",
      "   9  36  37 203 107 136 133  10   4  98 432 104  48 223 161   2  77 106\n",
      " 110  56  62  44  68 421  14  82  30 267  72  43  13]\n",
      "t2_ban3 : [ 43 238 121 141 201 154  31 122  53  84 412 254 117 202  11 119 113 157\n",
      "  29  91  74  40  16  18  64  59 516 105  38  75  96  67  57 497 150 114\n",
      "  23 203  41  55  34 134  86   1 103 266  80  33  19   6  89  45 420  98\n",
      "  24  17  92 131  58 498  61  51  62 429 240   7 236   8 164  28 102  -1\n",
      " 163  69 126 268  63 222  42   2  50  99  20  90  25  21  81  35   3 106\n",
      "  85   5 245  60 136  44  32  56 107  79  27 161 143  37  12 115 223  39\n",
      " 101 112  54 427   4 432 111  26 104  83 421  78  36  22 267  30  10  76\n",
      " 133  15 120 110   9 127  68  14  82  13  48  72  77]\n",
      "t2_ban4 : [ 16  51  57  40 122  63 157  67  59   6  53 141 420  29 114 113 150  18\n",
      "  75 117  79 119  17 154 238  19  23 105 498  60  31  61 412  55 429  35\n",
      "  64 245  90 236 516   8  69 107  83  74  82  11 497  36  24 222   7   5\n",
      "  92  38 103 131  85 202  -1  99  50  84  80 121 104 134  25  39  12  58\n",
      "  89 201  91 203  76 120   9  86 143 110  33  21  96  81  20  42   1 266\n",
      " 126 133 164  68  28 427  10  54  14 254 432  41 111   4 115  44 421  62\n",
      " 112  45 223 102 240  27 163   3  98   2  26 136  43  34  32  22 267 268\n",
      "  37 106  56  15 101 161 127  72  48  78  13  77  30]\n",
      "t2_ban5 : [ 51 420  28  18  31 429 238  40  53 412  64 122  19 119 157  29   6  67\n",
      "  57 516 105 114   7  11  59  61  55  81 150  33 141   3 113 102 131  25\n",
      "  38  21   8  75 154  89  96  39  42 202  24 134 117   5  80  -1 497  16\n",
      " 427  32  99 498 104  92 103 268  12  84 115 143  17  23 245 126  27  34\n",
      "  50  15  10 240  45  85   9  63  36  72  86  60 121  69   4  90 201 254\n",
      "  79 164  58 120 107  74   1 136 133  22  91  82  83  26  77 222 236 111\n",
      "  35  37   2  41 163 421 267  14  76 127 101 266 223 432  56  62 161  13\n",
      "  98  68  20  54  44 110  78  30 112 106  48  43 203]\n"
     ]
    }
   ],
   "source": [
    "for columna in df:\n",
    "    print(columna, ':', df[columna].unique())"
   ]
  },
  {
   "cell_type": "markdown",
   "metadata": {},
   "source": [
    "Com podem veure, els atributs `firstBaron`, `firstDragon`, `firstTower`, `firstBlood`, `firstInhibitor` i `firstRiftHerald` poden tenir tres diferents valors (0,1,2). També observem que `winner` és de tipus binari, però els valors són 1 o 2(equip 1 o equip 2) en comptes de 0 o 1. \n",
    "El que farem serà modificar els valors de `winner` per a que es trobin entre 0 i 1:"
   ]
  },
  {
   "cell_type": "code",
   "execution_count": 10,
   "metadata": {},
   "outputs": [],
   "source": [
    "df.loc[df.winner == 1, 'winner'] = 0\n",
    "df.loc[df.winner == 2, 'winner'] = 1"
   ]
  },
  {
   "cell_type": "markdown",
   "metadata": {},
   "source": [
    "### Normalització de dades\n",
    "\n",
    "Per últim, toca normalitzar les dades. Farem servir la funció següent, però com que encara no hem definit els conjunts de train i test, de moment no s'aplicarà:"
   ]
  },
  {
   "cell_type": "code",
   "execution_count": 11,
   "metadata": {},
   "outputs": [],
   "source": [
    "def normalitzar(x, col, mitjana=None, std=None):\n",
    "    if mitjana is None:\n",
    "        mitjana = x.mean(0)\n",
    "    if std is None:\n",
    "        std = x.std(0)\n",
    "    return pd.DataFrame(((x - mitjana[None, :]) / std[None, :]), columns = col), mitjana, std"
   ]
  },
  {
   "cell_type": "markdown",
   "metadata": {},
   "source": [
    "## Selecció de model\n",
    "\n",
    "Abans d'entrenar el nostre dataset, hem d'escollir un model. \n",
    "Per escollir aquest model, haurem de tenir en compte aquests punts:\n",
    "<ul>\n",
    "    <li>Determinar si li aplicarem aprenentatge supervisat o no supervisat.</li>\n",
    "    <li>Adequar la mida del dataset al model escollit.</li>\n",
    "    <li>Determinar el tipus de predicció a realitzar (categories, quantitats...).</li>\n",
    "</ul>\n",
    "\n",
    "L'atribut que volem predir será `winner` de forma categòrica, per veure si serà guanyador l'equip 1 o l'equip 2. \n",
    "\n",
    "Fent servir l'esquema del fitxer \"ml_map.png\", se'ns farà més fàcil l'elecció del model. \n",
    "Comencem mirant si el dataset té més de 50.000 mostres:"
   ]
  },
  {
   "cell_type": "code",
   "execution_count": 12,
   "metadata": {},
   "outputs": [
    {
     "data": {
      "text/plain": [
       "(51053, 60)"
      ]
     },
     "execution_count": 12,
     "metadata": {},
     "output_type": "execute_result"
    }
   ],
   "source": [
    "df.shape"
   ]
  },
  {
   "cell_type": "markdown",
   "metadata": {},
   "source": [
    "Com podem veure, en tenim més de 50.000. \n",
    "Tot seguit, toca veure si volem predir de forma categòrica. Com hem dit abans, es just el que volem fer amb l'atribut `winner`, per tant també és correcte.\n",
    "\n",
    "Amb això passem a la següent pregunta, que és si les nostres dades estan etiquetades. Efectivament ho estan, per tant, ja sabem que ens enfrentem a un problema d'etiquetatge supervisat.\n",
    "\n",
    "Com que el nostre dataset té menys de 100.000 mostres, haurem de provar de fer servir la Classificació Lineal per Màquines de Vectors de Suport."
   ]
  },
  {
   "cell_type": "markdown",
   "metadata": {},
   "source": [
    "## Entrenament i proves de models\n",
    "\n",
    "Un cop triat l'algorisme que farem servir (SVM), hem de distingir entre l'atribut objectiu i les característiques. \n",
    "Per això mateix, dividim el dataset, separant-ne l'atribut `winner`, que actuarà com a etiquetador, i quedant-nos només amb les característiques:"
   ]
  },
  {
   "cell_type": "code",
   "execution_count": 13,
   "metadata": {},
   "outputs": [
    {
     "data": {
      "text/html": [
       "<div>\n",
       "<style scoped>\n",
       "    .dataframe tbody tr th:only-of-type {\n",
       "        vertical-align: middle;\n",
       "    }\n",
       "\n",
       "    .dataframe tbody tr th {\n",
       "        vertical-align: top;\n",
       "    }\n",
       "\n",
       "    .dataframe thead th {\n",
       "        text-align: right;\n",
       "    }\n",
       "</style>\n",
       "<table border=\"1\" class=\"dataframe\">\n",
       "  <thead>\n",
       "    <tr style=\"text-align: right;\">\n",
       "      <th></th>\n",
       "      <th>gameId</th>\n",
       "      <th>creationTime</th>\n",
       "      <th>gameDuration</th>\n",
       "      <th>firstBlood</th>\n",
       "      <th>firstTower</th>\n",
       "      <th>firstInhibitor</th>\n",
       "      <th>firstBaron</th>\n",
       "      <th>firstDragon</th>\n",
       "      <th>firstRiftHerald</th>\n",
       "      <th>t1_champ1id</th>\n",
       "      <th>...</th>\n",
       "      <th>t2_towerKills</th>\n",
       "      <th>t2_inhibitorKills</th>\n",
       "      <th>t2_baronKills</th>\n",
       "      <th>t2_dragonKills</th>\n",
       "      <th>t2_riftHeraldKills</th>\n",
       "      <th>t2_ban1</th>\n",
       "      <th>t2_ban2</th>\n",
       "      <th>t2_ban3</th>\n",
       "      <th>t2_ban4</th>\n",
       "      <th>t2_ban5</th>\n",
       "    </tr>\n",
       "  </thead>\n",
       "  <tbody>\n",
       "    <tr>\n",
       "      <th>0</th>\n",
       "      <td>3326086514</td>\n",
       "      <td>1504279457970</td>\n",
       "      <td>1949</td>\n",
       "      <td>2</td>\n",
       "      <td>1</td>\n",
       "      <td>1</td>\n",
       "      <td>1</td>\n",
       "      <td>1</td>\n",
       "      <td>2</td>\n",
       "      <td>8</td>\n",
       "      <td>...</td>\n",
       "      <td>5</td>\n",
       "      <td>0</td>\n",
       "      <td>0</td>\n",
       "      <td>1</td>\n",
       "      <td>1</td>\n",
       "      <td>114</td>\n",
       "      <td>67</td>\n",
       "      <td>43</td>\n",
       "      <td>16</td>\n",
       "      <td>51</td>\n",
       "    </tr>\n",
       "    <tr>\n",
       "      <th>1</th>\n",
       "      <td>3229566029</td>\n",
       "      <td>1497848803862</td>\n",
       "      <td>1851</td>\n",
       "      <td>1</td>\n",
       "      <td>1</td>\n",
       "      <td>1</td>\n",
       "      <td>0</td>\n",
       "      <td>1</td>\n",
       "      <td>1</td>\n",
       "      <td>119</td>\n",
       "      <td>...</td>\n",
       "      <td>2</td>\n",
       "      <td>0</td>\n",
       "      <td>0</td>\n",
       "      <td>0</td>\n",
       "      <td>0</td>\n",
       "      <td>11</td>\n",
       "      <td>67</td>\n",
       "      <td>238</td>\n",
       "      <td>51</td>\n",
       "      <td>420</td>\n",
       "    </tr>\n",
       "    <tr>\n",
       "      <th>2</th>\n",
       "      <td>3327363504</td>\n",
       "      <td>1504360103310</td>\n",
       "      <td>1493</td>\n",
       "      <td>2</td>\n",
       "      <td>1</td>\n",
       "      <td>1</td>\n",
       "      <td>1</td>\n",
       "      <td>2</td>\n",
       "      <td>0</td>\n",
       "      <td>18</td>\n",
       "      <td>...</td>\n",
       "      <td>2</td>\n",
       "      <td>0</td>\n",
       "      <td>0</td>\n",
       "      <td>1</td>\n",
       "      <td>0</td>\n",
       "      <td>157</td>\n",
       "      <td>238</td>\n",
       "      <td>121</td>\n",
       "      <td>57</td>\n",
       "      <td>28</td>\n",
       "    </tr>\n",
       "    <tr>\n",
       "      <th>3</th>\n",
       "      <td>3326856598</td>\n",
       "      <td>1504348503996</td>\n",
       "      <td>1758</td>\n",
       "      <td>1</td>\n",
       "      <td>1</td>\n",
       "      <td>1</td>\n",
       "      <td>1</td>\n",
       "      <td>1</td>\n",
       "      <td>0</td>\n",
       "      <td>57</td>\n",
       "      <td>...</td>\n",
       "      <td>0</td>\n",
       "      <td>0</td>\n",
       "      <td>0</td>\n",
       "      <td>0</td>\n",
       "      <td>0</td>\n",
       "      <td>164</td>\n",
       "      <td>18</td>\n",
       "      <td>141</td>\n",
       "      <td>40</td>\n",
       "      <td>51</td>\n",
       "    </tr>\n",
       "    <tr>\n",
       "      <th>4</th>\n",
       "      <td>3330080762</td>\n",
       "      <td>1504554410899</td>\n",
       "      <td>2094</td>\n",
       "      <td>2</td>\n",
       "      <td>1</td>\n",
       "      <td>1</td>\n",
       "      <td>1</td>\n",
       "      <td>1</td>\n",
       "      <td>0</td>\n",
       "      <td>19</td>\n",
       "      <td>...</td>\n",
       "      <td>3</td>\n",
       "      <td>0</td>\n",
       "      <td>0</td>\n",
       "      <td>1</td>\n",
       "      <td>0</td>\n",
       "      <td>86</td>\n",
       "      <td>11</td>\n",
       "      <td>201</td>\n",
       "      <td>122</td>\n",
       "      <td>18</td>\n",
       "    </tr>\n",
       "  </tbody>\n",
       "</table>\n",
       "<p>5 rows × 59 columns</p>\n",
       "</div>"
      ],
      "text/plain": [
       "       gameId   creationTime  gameDuration  firstBlood  firstTower  \\\n",
       "0  3326086514  1504279457970          1949           2           1   \n",
       "1  3229566029  1497848803862          1851           1           1   \n",
       "2  3327363504  1504360103310          1493           2           1   \n",
       "3  3326856598  1504348503996          1758           1           1   \n",
       "4  3330080762  1504554410899          2094           2           1   \n",
       "\n",
       "   firstInhibitor  firstBaron  firstDragon  firstRiftHerald  t1_champ1id  ...  \\\n",
       "0               1           1            1                2            8  ...   \n",
       "1               1           0            1                1          119  ...   \n",
       "2               1           1            2                0           18  ...   \n",
       "3               1           1            1                0           57  ...   \n",
       "4               1           1            1                0           19  ...   \n",
       "\n",
       "   t2_towerKills  t2_inhibitorKills  t2_baronKills  t2_dragonKills  \\\n",
       "0              5                  0              0               1   \n",
       "1              2                  0              0               0   \n",
       "2              2                  0              0               1   \n",
       "3              0                  0              0               0   \n",
       "4              3                  0              0               1   \n",
       "\n",
       "   t2_riftHeraldKills  t2_ban1  t2_ban2  t2_ban3  t2_ban4  t2_ban5  \n",
       "0                   1      114       67       43       16       51  \n",
       "1                   0       11       67      238       51      420  \n",
       "2                   0      157      238      121       57       28  \n",
       "3                   0      164       18      141       40       51  \n",
       "4                   0       86       11      201      122       18  \n",
       "\n",
       "[5 rows x 59 columns]"
      ]
     },
     "execution_count": 13,
     "metadata": {},
     "output_type": "execute_result"
    }
   ],
   "source": [
    "df_carac = df.drop('winner',axis=1)\n",
    "df_carac.head()"
   ]
  },
  {
   "cell_type": "markdown",
   "metadata": {},
   "source": [
    "I assignem l'etiquetador a una variable que conté les classes etiquetades:"
   ]
  },
  {
   "cell_type": "code",
   "execution_count": 14,
   "metadata": {},
   "outputs": [
    {
     "data": {
      "text/plain": [
       "0    0\n",
       "1    0\n",
       "2    0\n",
       "3    0\n",
       "4    0\n",
       "Name: winner, dtype: int64"
      ]
     },
     "execution_count": 14,
     "metadata": {},
     "output_type": "execute_result"
    }
   ],
   "source": [
    "df_obj = df['winner']\n",
    "df_obj.head()"
   ]
  },
  {
   "cell_type": "markdown",
   "metadata": {},
   "source": [
    "Un cop fet això, preparem els conjunts que farem servir per a triar els diferents models que provarem, els quals seran amb les següents metodologies:\n",
    "<ul>\n",
    "    <li>Sense Validació Creuada.</li>\n",
    "    <li>Sense Validació Creuada amb PCA</li>\n",
    "    <li>Amb Validació Creuada - Grid Search</li>\n",
    "</ul>"
   ]
  },
  {
   "cell_type": "code",
   "execution_count": 15,
   "metadata": {},
   "outputs": [],
   "source": [
    "list_X_train = []\n",
    "list_X_test = []\n",
    "list_y_train = []\n",
    "list_y_test = []\n",
    "models = []"
   ]
  },
  {
   "cell_type": "markdown",
   "metadata": {},
   "source": [
    "### Sense Validació Creuada\n",
    "\n",
    "En aquest apartat buscarem un model sense fer servir la tècnica de validació creuada. \n",
    "Primer, comencem dividint el dataset en els conjunts train i test en una proporció del 70% i el 30% del total de les dades, respectivament, i barrejant-les una mica per a que sigui més aleatòria la divisió:"
   ]
  },
  {
   "cell_type": "code",
   "execution_count": 16,
   "metadata": {},
   "outputs": [
    {
     "data": {
      "text/plain": [
       "38747    1\n",
       "45142    0\n",
       "17437    0\n",
       "30550    0\n",
       "10458    1\n",
       "Name: winner, dtype: int64"
      ]
     },
     "execution_count": 16,
     "metadata": {},
     "output_type": "execute_result"
    }
   ],
   "source": [
    "from sklearn.model_selection import train_test_split\n",
    "X_train, X_test, y_train, y_test = train_test_split(df_carac, df_obj, test_size=0.30, random_state=42)\n",
    "list_y_train.append(y_train)\n",
    "list_y_test.append(y_test)\n",
    "y_train.head()"
   ]
  },
  {
   "cell_type": "markdown",
   "metadata": {},
   "source": [
    "En SVM, busquem minimitzar el vector de decisió. L'hiperpla més òptim es veu influenciat per l'escalabilitat del valor de les mostres, i per això haurem de normalitzar-les, per a que estiguin totes en un rang de valors similar. Això ho farem amb la funció que hem implementat abans, normalitzar():"
   ]
  },
  {
   "cell_type": "code",
   "execution_count": 17,
   "metadata": {},
   "outputs": [
    {
     "data": {
      "text/html": [
       "<div>\n",
       "<style scoped>\n",
       "    .dataframe tbody tr th:only-of-type {\n",
       "        vertical-align: middle;\n",
       "    }\n",
       "\n",
       "    .dataframe tbody tr th {\n",
       "        vertical-align: top;\n",
       "    }\n",
       "\n",
       "    .dataframe thead th {\n",
       "        text-align: right;\n",
       "    }\n",
       "</style>\n",
       "<table border=\"1\" class=\"dataframe\">\n",
       "  <thead>\n",
       "    <tr style=\"text-align: right;\">\n",
       "      <th></th>\n",
       "      <th>gameId</th>\n",
       "      <th>creationTime</th>\n",
       "      <th>gameDuration</th>\n",
       "      <th>firstBlood</th>\n",
       "      <th>firstTower</th>\n",
       "      <th>firstInhibitor</th>\n",
       "      <th>firstBaron</th>\n",
       "      <th>firstDragon</th>\n",
       "      <th>firstRiftHerald</th>\n",
       "      <th>t1_champ1id</th>\n",
       "      <th>...</th>\n",
       "      <th>t2_towerKills</th>\n",
       "      <th>t2_inhibitorKills</th>\n",
       "      <th>t2_baronKills</th>\n",
       "      <th>t2_dragonKills</th>\n",
       "      <th>t2_riftHeraldKills</th>\n",
       "      <th>t2_ban1</th>\n",
       "      <th>t2_ban2</th>\n",
       "      <th>t2_ban3</th>\n",
       "      <th>t2_ban4</th>\n",
       "      <th>t2_ban5</th>\n",
       "    </tr>\n",
       "  </thead>\n",
       "  <tbody>\n",
       "    <tr>\n",
       "      <th>0</th>\n",
       "      <td>0.641219</td>\n",
       "      <td>0.648070</td>\n",
       "      <td>2.102207</td>\n",
       "      <td>1.013939</td>\n",
       "      <td>1.008900</td>\n",
       "      <td>-0.454329</td>\n",
       "      <td>1.272724</td>\n",
       "      <td>0.979857</td>\n",
       "      <td>-0.885301</td>\n",
       "      <td>0.359944</td>\n",
       "      <td>...</td>\n",
       "      <td>0.117787</td>\n",
       "      <td>0.013319</td>\n",
       "      <td>2.591460</td>\n",
       "      <td>2.116806</td>\n",
       "      <td>-0.559586</td>\n",
       "      <td>-0.947131</td>\n",
       "      <td>0.057575</td>\n",
       "      <td>0.101527</td>\n",
       "      <td>1.324833</td>\n",
       "      <td>-0.878418</td>\n",
       "    </tr>\n",
       "    <tr>\n",
       "      <th>1</th>\n",
       "      <td>0.629173</td>\n",
       "      <td>0.639788</td>\n",
       "      <td>0.296872</td>\n",
       "      <td>-0.904583</td>\n",
       "      <td>1.008900</td>\n",
       "      <td>1.023720</td>\n",
       "      <td>1.272724</td>\n",
       "      <td>0.979857</td>\n",
       "      <td>-0.885301</td>\n",
       "      <td>-0.892645</td>\n",
       "      <td>...</td>\n",
       "      <td>1.153494</td>\n",
       "      <td>0.809289</td>\n",
       "      <td>0.957071</td>\n",
       "      <td>2.116806</td>\n",
       "      <td>-0.559586</td>\n",
       "      <td>-0.035493</td>\n",
       "      <td>-0.495574</td>\n",
       "      <td>-0.386394</td>\n",
       "      <td>-0.402802</td>\n",
       "      <td>0.466299</td>\n",
       "    </tr>\n",
       "    <tr>\n",
       "      <th>2</th>\n",
       "      <td>0.836131</td>\n",
       "      <td>0.854165</td>\n",
       "      <td>-0.015741</td>\n",
       "      <td>-0.904583</td>\n",
       "      <td>-0.830362</td>\n",
       "      <td>-0.454329</td>\n",
       "      <td>1.272724</td>\n",
       "      <td>-0.775565</td>\n",
       "      <td>0.331686</td>\n",
       "      <td>-0.480720</td>\n",
       "      <td>...</td>\n",
       "      <td>0.117787</td>\n",
       "      <td>0.013319</td>\n",
       "      <td>0.957071</td>\n",
       "      <td>-0.329143</td>\n",
       "      <td>-0.559586</td>\n",
       "      <td>-0.161570</td>\n",
       "      <td>0.474862</td>\n",
       "      <td>-0.776730</td>\n",
       "      <td>0.101901</td>\n",
       "      <td>-0.036761</td>\n",
       "    </tr>\n",
       "    <tr>\n",
       "      <th>3</th>\n",
       "      <td>0.546607</td>\n",
       "      <td>0.542490</td>\n",
       "      <td>-0.488567</td>\n",
       "      <td>1.013939</td>\n",
       "      <td>1.008900</td>\n",
       "      <td>1.023720</td>\n",
       "      <td>-1.102261</td>\n",
       "      <td>0.979857</td>\n",
       "      <td>-0.885301</td>\n",
       "      <td>0.048899</td>\n",
       "      <td>...</td>\n",
       "      <td>0.894568</td>\n",
       "      <td>0.809289</td>\n",
       "      <td>-0.677318</td>\n",
       "      <td>-0.329143</td>\n",
       "      <td>-0.559586</td>\n",
       "      <td>-0.268251</td>\n",
       "      <td>-0.767296</td>\n",
       "      <td>-0.835281</td>\n",
       "      <td>1.256892</td>\n",
       "      <td>-0.752653</td>\n",
       "    </tr>\n",
       "    <tr>\n",
       "      <th>4</th>\n",
       "      <td>-0.515862</td>\n",
       "      <td>-0.499554</td>\n",
       "      <td>0.529377</td>\n",
       "      <td>1.013939</td>\n",
       "      <td>1.008900</td>\n",
       "      <td>1.023720</td>\n",
       "      <td>0.085232</td>\n",
       "      <td>0.979857</td>\n",
       "      <td>-0.885301</td>\n",
       "      <td>-0.211707</td>\n",
       "      <td>...</td>\n",
       "      <td>0.635641</td>\n",
       "      <td>0.013319</td>\n",
       "      <td>-0.677318</td>\n",
       "      <td>1.301490</td>\n",
       "      <td>-0.559586</td>\n",
       "      <td>0.129378</td>\n",
       "      <td>-0.825522</td>\n",
       "      <td>-0.035091</td>\n",
       "      <td>0.053372</td>\n",
       "      <td>-0.559169</td>\n",
       "    </tr>\n",
       "  </tbody>\n",
       "</table>\n",
       "<p>5 rows × 59 columns</p>\n",
       "</div>"
      ],
      "text/plain": [
       "     gameId  creationTime  gameDuration  firstBlood  firstTower  \\\n",
       "0  0.641219      0.648070      2.102207    1.013939    1.008900   \n",
       "1  0.629173      0.639788      0.296872   -0.904583    1.008900   \n",
       "2  0.836131      0.854165     -0.015741   -0.904583   -0.830362   \n",
       "3  0.546607      0.542490     -0.488567    1.013939    1.008900   \n",
       "4 -0.515862     -0.499554      0.529377    1.013939    1.008900   \n",
       "\n",
       "   firstInhibitor  firstBaron  firstDragon  firstRiftHerald  t1_champ1id  ...  \\\n",
       "0       -0.454329    1.272724     0.979857        -0.885301     0.359944  ...   \n",
       "1        1.023720    1.272724     0.979857        -0.885301    -0.892645  ...   \n",
       "2       -0.454329    1.272724    -0.775565         0.331686    -0.480720  ...   \n",
       "3        1.023720   -1.102261     0.979857        -0.885301     0.048899  ...   \n",
       "4        1.023720    0.085232     0.979857        -0.885301    -0.211707  ...   \n",
       "\n",
       "   t2_towerKills  t2_inhibitorKills  t2_baronKills  t2_dragonKills  \\\n",
       "0       0.117787           0.013319       2.591460        2.116806   \n",
       "1       1.153494           0.809289       0.957071        2.116806   \n",
       "2       0.117787           0.013319       0.957071       -0.329143   \n",
       "3       0.894568           0.809289      -0.677318       -0.329143   \n",
       "4       0.635641           0.013319      -0.677318        1.301490   \n",
       "\n",
       "   t2_riftHeraldKills   t2_ban1   t2_ban2   t2_ban3   t2_ban4   t2_ban5  \n",
       "0           -0.559586 -0.947131  0.057575  0.101527  1.324833 -0.878418  \n",
       "1           -0.559586 -0.035493 -0.495574 -0.386394 -0.402802  0.466299  \n",
       "2           -0.559586 -0.161570  0.474862 -0.776730  0.101901 -0.036761  \n",
       "3           -0.559586 -0.268251 -0.767296 -0.835281  1.256892 -0.752653  \n",
       "4           -0.559586  0.129378 -0.825522 -0.035091  0.053372 -0.559169  \n",
       "\n",
       "[5 rows x 59 columns]"
      ]
     },
     "execution_count": 17,
     "metadata": {},
     "output_type": "execute_result"
    }
   ],
   "source": [
    "X_train, mitjana, std = normalitzar(X_train.values, X_train.columns.values)\n",
    "X_test, a, b = normalitzar(X_test.values, X_test.columns.values, mitjana, std)\n",
    "list_X_train.append(X_train)\n",
    "list_X_test.append(X_test)\n",
    "X_test.head()"
   ]
  },
  {
   "cell_type": "markdown",
   "metadata": {},
   "source": [
    "Com podem observar, només calculem mitjana i desviació mitjana (std) amb el conjunt d'entrenament (train), per tant les variables \"a\" i \"b\" són irrellevants."
   ]
  },
  {
   "cell_type": "markdown",
   "metadata": {},
   "source": [
    "Un cop feta la normalització de les dades, ja podem aplicar l'agorisme SVM per a obtenir el model `Sense Validació creuada`:"
   ]
  },
  {
   "cell_type": "code",
   "execution_count": 18,
   "metadata": {},
   "outputs": [
    {
     "data": {
      "text/html": [
       "<style>#sk-container-id-1 {color: black;background-color: white;}#sk-container-id-1 pre{padding: 0;}#sk-container-id-1 div.sk-toggleable {background-color: white;}#sk-container-id-1 label.sk-toggleable__label {cursor: pointer;display: block;width: 100%;margin-bottom: 0;padding: 0.3em;box-sizing: border-box;text-align: center;}#sk-container-id-1 label.sk-toggleable__label-arrow:before {content: \"▸\";float: left;margin-right: 0.25em;color: #696969;}#sk-container-id-1 label.sk-toggleable__label-arrow:hover:before {color: black;}#sk-container-id-1 div.sk-estimator:hover label.sk-toggleable__label-arrow:before {color: black;}#sk-container-id-1 div.sk-toggleable__content {max-height: 0;max-width: 0;overflow: hidden;text-align: left;background-color: #f0f8ff;}#sk-container-id-1 div.sk-toggleable__content pre {margin: 0.2em;color: black;border-radius: 0.25em;background-color: #f0f8ff;}#sk-container-id-1 input.sk-toggleable__control:checked~div.sk-toggleable__content {max-height: 200px;max-width: 100%;overflow: auto;}#sk-container-id-1 input.sk-toggleable__control:checked~label.sk-toggleable__label-arrow:before {content: \"▾\";}#sk-container-id-1 div.sk-estimator input.sk-toggleable__control:checked~label.sk-toggleable__label {background-color: #d4ebff;}#sk-container-id-1 div.sk-label input.sk-toggleable__control:checked~label.sk-toggleable__label {background-color: #d4ebff;}#sk-container-id-1 input.sk-hidden--visually {border: 0;clip: rect(1px 1px 1px 1px);clip: rect(1px, 1px, 1px, 1px);height: 1px;margin: -1px;overflow: hidden;padding: 0;position: absolute;width: 1px;}#sk-container-id-1 div.sk-estimator {font-family: monospace;background-color: #f0f8ff;border: 1px dotted black;border-radius: 0.25em;box-sizing: border-box;margin-bottom: 0.5em;}#sk-container-id-1 div.sk-estimator:hover {background-color: #d4ebff;}#sk-container-id-1 div.sk-parallel-item::after {content: \"\";width: 100%;border-bottom: 1px solid gray;flex-grow: 1;}#sk-container-id-1 div.sk-label:hover label.sk-toggleable__label {background-color: #d4ebff;}#sk-container-id-1 div.sk-serial::before {content: \"\";position: absolute;border-left: 1px solid gray;box-sizing: border-box;top: 0;bottom: 0;left: 50%;z-index: 0;}#sk-container-id-1 div.sk-serial {display: flex;flex-direction: column;align-items: center;background-color: white;padding-right: 0.2em;padding-left: 0.2em;position: relative;}#sk-container-id-1 div.sk-item {position: relative;z-index: 1;}#sk-container-id-1 div.sk-parallel {display: flex;align-items: stretch;justify-content: center;background-color: white;position: relative;}#sk-container-id-1 div.sk-item::before, #sk-container-id-1 div.sk-parallel-item::before {content: \"\";position: absolute;border-left: 1px solid gray;box-sizing: border-box;top: 0;bottom: 0;left: 50%;z-index: -1;}#sk-container-id-1 div.sk-parallel-item {display: flex;flex-direction: column;z-index: 1;position: relative;background-color: white;}#sk-container-id-1 div.sk-parallel-item:first-child::after {align-self: flex-end;width: 50%;}#sk-container-id-1 div.sk-parallel-item:last-child::after {align-self: flex-start;width: 50%;}#sk-container-id-1 div.sk-parallel-item:only-child::after {width: 0;}#sk-container-id-1 div.sk-dashed-wrapped {border: 1px dashed gray;margin: 0 0.4em 0.5em 0.4em;box-sizing: border-box;padding-bottom: 0.4em;background-color: white;}#sk-container-id-1 div.sk-label label {font-family: monospace;font-weight: bold;display: inline-block;line-height: 1.2em;}#sk-container-id-1 div.sk-label-container {text-align: center;}#sk-container-id-1 div.sk-container {/* jupyter's `normalize.less` sets `[hidden] { display: none; }` but bootstrap.min.css set `[hidden] { display: none !important; }` so we also need the `!important` here to be able to override the default hidden behavior on the sphinx rendered scikit-learn.org. See: https://github.com/scikit-learn/scikit-learn/issues/21755 */display: inline-block !important;position: relative;}#sk-container-id-1 div.sk-text-repr-fallback {display: none;}</style><div id=\"sk-container-id-1\" class=\"sk-top-container\"><div class=\"sk-text-repr-fallback\"><pre>SVC()</pre><b>In a Jupyter environment, please rerun this cell to show the HTML representation or trust the notebook. <br />On GitHub, the HTML representation is unable to render, please try loading this page with nbviewer.org.</b></div><div class=\"sk-container\" hidden><div class=\"sk-item\"><div class=\"sk-estimator sk-toggleable\"><input class=\"sk-toggleable__control sk-hidden--visually\" id=\"sk-estimator-id-1\" type=\"checkbox\" checked><label for=\"sk-estimator-id-1\" class=\"sk-toggleable__label sk-toggleable__label-arrow\">SVC</label><div class=\"sk-toggleable__content\"><pre>SVC()</pre></div></div></div></div></div>"
      ],
      "text/plain": [
       "SVC()"
      ]
     },
     "execution_count": 18,
     "metadata": {},
     "output_type": "execute_result"
    }
   ],
   "source": [
    "from sklearn.svm import SVC\n",
    "modelSenseValidacioCreuada = SVC()\n",
    "modelSenseValidacioCreuada.fit(X_train, y_train)"
   ]
  },
  {
   "cell_type": "markdown",
   "metadata": {},
   "source": [
    "I, per últim, l'afegim a la nostra llista de models:"
   ]
  },
  {
   "cell_type": "code",
   "execution_count": 19,
   "metadata": {},
   "outputs": [],
   "source": [
    "models.append(modelSenseValidacioCreuada)"
   ]
  },
  {
   "cell_type": "markdown",
   "metadata": {},
   "source": [
    "### Sense Validació Creuada amb PCA\n",
    "\n",
    "Un cop fet el model sense validació creuada, ara farem servir la mateixa metodologia, però afegint un Anàlisis de Components Principals (PCA), per a reduir la dimensionalitat de les dades.\n",
    "\n",
    "Comencem aplicant els processos de l'apartat anterior, com són la divisió de les dades en els conjunts de train (70%) i test (30%), i la normalització de les dades:"
   ]
  },
  {
   "cell_type": "code",
   "execution_count": 20,
   "metadata": {},
   "outputs": [],
   "source": [
    "X_train, X_test, y_train, y_test = train_test_split(df_carac, df_obj, test_size=0.30, random_state=42)\n",
    "list_y_train.append(y_train)\n",
    "list_y_test.append(y_test)\n",
    "X_train, mitjana, std = normalitzar(X_train.values, X_train.columns.values)\n",
    "X_test, a, b = normalitzar(X_test.values, X_test.columns.values, mitjana, std)"
   ]
  },
  {
   "cell_type": "markdown",
   "metadata": {},
   "source": [
    "Un cop fet això, procedim a aplicar el PCA. S'ha decidit fer-lo de dos a deu components, etiquetant cada característica nova amb la nomenclatura \"compX\", on X serà un nombre del 2 al 10."
   ]
  },
  {
   "cell_type": "code",
   "execution_count": 21,
   "metadata": {},
   "outputs": [],
   "source": [
    "from sklearn.decomposition import PCA\n",
    "X_trains_PCA = []\n",
    "X_tests_PCA = []\n",
    "\n",
    "col = ['comp1']\n",
    "for i in range(2, 11):\n",
    "    col.append('comp' + str(i))\n",
    "    pca = PCA(n_components=i)\n",
    "    X_train_PCA = pd.DataFrame(pca.fit_transform(X_train), columns = col)\n",
    "    X_test_PCA = pd.DataFrame(pca.transform(X_test), columns = col)\n",
    "    X_trains_PCA.append(X_train_PCA)\n",
    "    X_tests_PCA.append(X_test_PCA)\n",
    "list_X_train.append(X_trains_PCA)\n",
    "list_X_test.append(X_tests_PCA)"
   ]
  },
  {
   "cell_type": "markdown",
   "metadata": {},
   "source": [
    "Un cop generades les noves característiques, passem a executar l'algorisme per tots els datasets :"
   ]
  },
  {
   "cell_type": "code",
   "execution_count": 22,
   "metadata": {},
   "outputs": [
    {
     "name": "stdout",
     "output_type": "stream",
     "text": [
      "SVC() PCA: n_components=2\n",
      "SVC() PCA: n_components=3\n",
      "SVC() PCA: n_components=4\n",
      "SVC() PCA: n_components=5\n",
      "SVC() PCA: n_components=6\n",
      "SVC() PCA: n_components=7\n",
      "SVC() PCA: n_components=8\n",
      "SVC() PCA: n_components=9\n",
      "SVC() PCA: n_components=10\n"
     ]
    }
   ],
   "source": [
    "models_PCA = []\n",
    "i = 2\n",
    "\n",
    "for aux_train_PCA in X_trains_PCA:\n",
    "    model = SVC()\n",
    "    model.fit(aux_train_PCA, y_train)\n",
    "    models_PCA.append(model)\n",
    "    print('SVC() PCA: n_components=' + str(i))\n",
    "    i += 1\n",
    "models.append(models_PCA)"
   ]
  },
  {
   "cell_type": "markdown",
   "metadata": {},
   "source": [
    "### Grid Search amb Validació Creuada\n",
    "\n",
    "Per últim, aplicarem un algorisme de Grid Search amb Validació Creuada, que cerca de manera sistemàtica els millors hiperparàmetres per a un model d'aprenentatge automàtic, avaluant el seu rendiment en diverses combinacions a través de particions del conjunt de dades (Validació Creuada).\n",
    "\n",
    "Començarem dividint el nostre dataset en els conjunts de train i test:"
   ]
  },
  {
   "cell_type": "code",
   "execution_count": 23,
   "metadata": {},
   "outputs": [],
   "source": [
    "X_train, X_test, y_train, y_test = train_test_split(df_carac, df_obj, test_size=0.30, random_state=42)\n",
    "list_y_train.append(y_train)\n",
    "list_y_test.append(y_test)\n",
    "X_train, mitjana, std = normalitzar(X_train.values, X_train.columns.values)\n",
    "X_test, a, b = normalitzar(X_test.values, X_test.columns.values, mitjana, std)\n",
    "list_X_train.append(X_train)\n",
    "list_X_test.append(X_test)"
   ]
  },
  {
   "cell_type": "markdown",
   "metadata": {},
   "source": [
    "Com podem observar, s'ha dut a terme la divisió de la mateixa forma que en els dos anteriors apartats.\n",
    "Tot seguit, guardarem en un diccionari les diferents combinacions d'hiperparàmetres que provarem. Tindrem dos hiperparàmetres: el `kernel` i el penalitzador `C`. En el cas del kernel, només farem servir el kernel \"linear\" o lineal, i el penalitzador tindrà tres valors diferents:"
   ]
  },
  {
   "cell_type": "code",
   "execution_count": 24,
   "metadata": {},
   "outputs": [],
   "source": [
    "hiperparams = {'C': [0.1, 1, 10], 'kernel': ['linear']}"
   ]
  },
  {
   "cell_type": "markdown",
   "metadata": {},
   "source": [
    "Un cop tenim els hiperparàmetres clars, podem executar l'algorisme de GridSearch j, passant el paràmetre cv=3 per a indicar la que validació creuada serà dividint el conjunt de dades en 3 \"folds\" (k-fold): "
   ]
  },
  {
   "cell_type": "code",
   "execution_count": 25,
   "metadata": {},
   "outputs": [
    {
     "name": "stdout",
     "output_type": "stream",
     "text": [
      "Fitting 3 folds for each of 3 candidates, totalling 9 fits\n"
     ]
    },
    {
     "data": {
      "text/html": [
       "<style>#sk-container-id-2 {color: black;background-color: white;}#sk-container-id-2 pre{padding: 0;}#sk-container-id-2 div.sk-toggleable {background-color: white;}#sk-container-id-2 label.sk-toggleable__label {cursor: pointer;display: block;width: 100%;margin-bottom: 0;padding: 0.3em;box-sizing: border-box;text-align: center;}#sk-container-id-2 label.sk-toggleable__label-arrow:before {content: \"▸\";float: left;margin-right: 0.25em;color: #696969;}#sk-container-id-2 label.sk-toggleable__label-arrow:hover:before {color: black;}#sk-container-id-2 div.sk-estimator:hover label.sk-toggleable__label-arrow:before {color: black;}#sk-container-id-2 div.sk-toggleable__content {max-height: 0;max-width: 0;overflow: hidden;text-align: left;background-color: #f0f8ff;}#sk-container-id-2 div.sk-toggleable__content pre {margin: 0.2em;color: black;border-radius: 0.25em;background-color: #f0f8ff;}#sk-container-id-2 input.sk-toggleable__control:checked~div.sk-toggleable__content {max-height: 200px;max-width: 100%;overflow: auto;}#sk-container-id-2 input.sk-toggleable__control:checked~label.sk-toggleable__label-arrow:before {content: \"▾\";}#sk-container-id-2 div.sk-estimator input.sk-toggleable__control:checked~label.sk-toggleable__label {background-color: #d4ebff;}#sk-container-id-2 div.sk-label input.sk-toggleable__control:checked~label.sk-toggleable__label {background-color: #d4ebff;}#sk-container-id-2 input.sk-hidden--visually {border: 0;clip: rect(1px 1px 1px 1px);clip: rect(1px, 1px, 1px, 1px);height: 1px;margin: -1px;overflow: hidden;padding: 0;position: absolute;width: 1px;}#sk-container-id-2 div.sk-estimator {font-family: monospace;background-color: #f0f8ff;border: 1px dotted black;border-radius: 0.25em;box-sizing: border-box;margin-bottom: 0.5em;}#sk-container-id-2 div.sk-estimator:hover {background-color: #d4ebff;}#sk-container-id-2 div.sk-parallel-item::after {content: \"\";width: 100%;border-bottom: 1px solid gray;flex-grow: 1;}#sk-container-id-2 div.sk-label:hover label.sk-toggleable__label {background-color: #d4ebff;}#sk-container-id-2 div.sk-serial::before {content: \"\";position: absolute;border-left: 1px solid gray;box-sizing: border-box;top: 0;bottom: 0;left: 50%;z-index: 0;}#sk-container-id-2 div.sk-serial {display: flex;flex-direction: column;align-items: center;background-color: white;padding-right: 0.2em;padding-left: 0.2em;position: relative;}#sk-container-id-2 div.sk-item {position: relative;z-index: 1;}#sk-container-id-2 div.sk-parallel {display: flex;align-items: stretch;justify-content: center;background-color: white;position: relative;}#sk-container-id-2 div.sk-item::before, #sk-container-id-2 div.sk-parallel-item::before {content: \"\";position: absolute;border-left: 1px solid gray;box-sizing: border-box;top: 0;bottom: 0;left: 50%;z-index: -1;}#sk-container-id-2 div.sk-parallel-item {display: flex;flex-direction: column;z-index: 1;position: relative;background-color: white;}#sk-container-id-2 div.sk-parallel-item:first-child::after {align-self: flex-end;width: 50%;}#sk-container-id-2 div.sk-parallel-item:last-child::after {align-self: flex-start;width: 50%;}#sk-container-id-2 div.sk-parallel-item:only-child::after {width: 0;}#sk-container-id-2 div.sk-dashed-wrapped {border: 1px dashed gray;margin: 0 0.4em 0.5em 0.4em;box-sizing: border-box;padding-bottom: 0.4em;background-color: white;}#sk-container-id-2 div.sk-label label {font-family: monospace;font-weight: bold;display: inline-block;line-height: 1.2em;}#sk-container-id-2 div.sk-label-container {text-align: center;}#sk-container-id-2 div.sk-container {/* jupyter's `normalize.less` sets `[hidden] { display: none; }` but bootstrap.min.css set `[hidden] { display: none !important; }` so we also need the `!important` here to be able to override the default hidden behavior on the sphinx rendered scikit-learn.org. See: https://github.com/scikit-learn/scikit-learn/issues/21755 */display: inline-block !important;position: relative;}#sk-container-id-2 div.sk-text-repr-fallback {display: none;}</style><div id=\"sk-container-id-2\" class=\"sk-top-container\"><div class=\"sk-text-repr-fallback\"><pre>GridSearchCV(cv=3, estimator=SVC(), n_jobs=-1,\n",
       "             param_grid={&#x27;C&#x27;: [0.1, 1, 10], &#x27;kernel&#x27;: [&#x27;linear&#x27;]}, verbose=1)</pre><b>In a Jupyter environment, please rerun this cell to show the HTML representation or trust the notebook. <br />On GitHub, the HTML representation is unable to render, please try loading this page with nbviewer.org.</b></div><div class=\"sk-container\" hidden><div class=\"sk-item sk-dashed-wrapped\"><div class=\"sk-label-container\"><div class=\"sk-label sk-toggleable\"><input class=\"sk-toggleable__control sk-hidden--visually\" id=\"sk-estimator-id-2\" type=\"checkbox\" ><label for=\"sk-estimator-id-2\" class=\"sk-toggleable__label sk-toggleable__label-arrow\">GridSearchCV</label><div class=\"sk-toggleable__content\"><pre>GridSearchCV(cv=3, estimator=SVC(), n_jobs=-1,\n",
       "             param_grid={&#x27;C&#x27;: [0.1, 1, 10], &#x27;kernel&#x27;: [&#x27;linear&#x27;]}, verbose=1)</pre></div></div></div><div class=\"sk-parallel\"><div class=\"sk-parallel-item\"><div class=\"sk-item\"><div class=\"sk-label-container\"><div class=\"sk-label sk-toggleable\"><input class=\"sk-toggleable__control sk-hidden--visually\" id=\"sk-estimator-id-3\" type=\"checkbox\" ><label for=\"sk-estimator-id-3\" class=\"sk-toggleable__label sk-toggleable__label-arrow\">estimator: SVC</label><div class=\"sk-toggleable__content\"><pre>SVC()</pre></div></div></div><div class=\"sk-serial\"><div class=\"sk-item\"><div class=\"sk-estimator sk-toggleable\"><input class=\"sk-toggleable__control sk-hidden--visually\" id=\"sk-estimator-id-4\" type=\"checkbox\" ><label for=\"sk-estimator-id-4\" class=\"sk-toggleable__label sk-toggleable__label-arrow\">SVC</label><div class=\"sk-toggleable__content\"><pre>SVC()</pre></div></div></div></div></div></div></div></div></div></div>"
      ],
      "text/plain": [
       "GridSearchCV(cv=3, estimator=SVC(), n_jobs=-1,\n",
       "             param_grid={'C': [0.1, 1, 10], 'kernel': ['linear']}, verbose=1)"
      ]
     },
     "execution_count": 25,
     "metadata": {},
     "output_type": "execute_result"
    }
   ],
   "source": [
    "from sklearn.model_selection import GridSearchCV\n",
    "modelGridSearch = GridSearchCV(SVC(), hiperparams, refit=True, verbose=1, n_jobs=-1, cv=3)\n",
    "modelGridSearch.fit(X_train, y_train)"
   ]
  },
  {
   "cell_type": "markdown",
   "metadata": {},
   "source": [
    "Un cop extret el model, el guardem a la llista de models juntament amb els que hem trobat anteriorment, i comprovem quins han sigut els millors hiperparàmetres. En aquest cas, com que el kernel és el mateix sempre, només ens interessarà el millor valor del penalitzador:"
   ]
  },
  {
   "cell_type": "code",
   "execution_count": 26,
   "metadata": {},
   "outputs": [
    {
     "data": {
      "text/plain": [
       "{'C': 1, 'kernel': 'linear'}"
      ]
     },
     "execution_count": 26,
     "metadata": {},
     "output_type": "execute_result"
    }
   ],
   "source": [
    "models.append(modelGridSearch)\n",
    "modelGridSearch.best_params_"
   ]
  },
  {
   "cell_type": "markdown",
   "metadata": {},
   "source": [
    "## Avaluació dels models\n",
    "\n",
    "En aquesta secció avaluarem la eficiència dels models que hem extret anteriorment, lo qual ens ajudarà a extreure'n conclusions. Farem servir les següents mètriques per a dur-ho a terme:\n",
    "<ul>\n",
    "    <li><b>Accuracy</b>: mesura el % de prediccions que el model ha encertat, però hem de tenir en compte la resta de mètriques per evitar problemes d'overfitting.</li>\n",
    "    <li><b>Precision</b>:  mesura la qualitat del model en tasques de classificació.</li>\n",
    "    <li><b>Recall</b>: mesura la capacitat del model de detectar mostres positives.</li>\n",
    "    <li><b>F1-Score</b>: és una combinació de precision i recall.</li>\n",
    "    <li><b>Error quadràtic mitjà (MSE)</b>: mesura l'error quadrat fruit de la mitjana de les nostres prediccions. Com més gran sigui aquest valor, pitjor és el model.</li>\n",
    "</ul>"
   ]
  },
  {
   "cell_type": "markdown",
   "metadata": {},
   "source": [
    "### Sense Validació Creuada\n",
    "\n",
    "Començarem avaluant el primer model realitzat mitjançant la `matriu de confusió`:"
   ]
  },
  {
   "cell_type": "code",
   "execution_count": 27,
   "metadata": {},
   "outputs": [
    {
     "data": {
      "image/png": "[encoded data removed]",
      "text/plain": [
       "<Figure size 250x250 with 1 Axes>"
      ]
     },
     "metadata": {},
     "output_type": "display_data"
    }
   ],
   "source": [
    "import matplotlib.pyplot as plt\n",
    "from sklearn.metrics import classification_report, confusion_matrix, roc_curve, precision_recall_curve\n",
    "prediccions = models[0].predict(list_X_test[0])\n",
    "cm = confusion_matrix(list_y_test[0], prediccions)\n",
    "fig, ax = plt.subplots(figsize=(2.5, 2.5))\n",
    "ax.matshow(cm, cmap=\"coolwarm\", alpha=0.3)\n",
    "for i in range(cm.shape[0]):\n",
    "    for j in range(cm.shape[1]):\n",
    "        ax.text(x=j, y=i,s=cm[i, j], va='center', ha='center')\n",
    "plt.title('Matriu de confusió')\n",
    "plt.xlabel('Valors Predits')\n",
    "plt.ylabel('Valors Reals')\n",
    "plt.show()"
   ]
  },
  {
   "cell_type": "markdown",
   "metadata": {},
   "source": [
    "Com podem veure, aquesta matriu esta dividida en 4 parts: `Verdaders Negatius` (0,0), `Falsos Positius` (0,1), `Falsos Negatius` (1,0) i `Verdaders Positius` (1,1). \n",
    "Com podem observar, tenim 7538 VN, 254 FP, 287 FN i 7237 VP.\n",
    "Per tant, entre un 96-97% de les prediccions han sigut correctes, mentres que menys d'un 4% han sigut prediccions errònies.\n",
    "\n",
    "Tot seguit, calcularem les 4 mètriques anteriorment esmentades mitjançant la funció `classification_report`:"
   ]
  },
  {
   "cell_type": "code",
   "execution_count": 28,
   "metadata": {},
   "outputs": [
    {
     "name": "stdout",
     "output_type": "stream",
     "text": [
      "              precision    recall  f1-score   support\n",
      "\n",
      "           0       0.96      0.97      0.97      7792\n",
      "           1       0.97      0.96      0.96      7524\n",
      "\n",
      "    accuracy                           0.96     15316\n",
      "   macro avg       0.96      0.96      0.96     15316\n",
      "weighted avg       0.96      0.96      0.96     15316\n",
      "\n"
     ]
    }
   ],
   "source": [
    "print(classification_report(list_y_test[0], prediccions))"
   ]
  },
  {
   "cell_type": "markdown",
   "metadata": {},
   "source": [
    "Com podem veure, totes les mètriques ens indiquen que el model és molt acertat, ja que ens donen percentatges molt propers al 100%. A destacar que la mètrica f1-score no serà gaire rellevant en aquest cas, ja que hi ha molt poca diferència entre Falsos Positius i Falsos Negatius.\n",
    "\n",
    "Ara procedim a veure les corbes Precision-Recall i ROC per acabar de veure com de bon rendiment aporta el model:"
   ]
  },
  {
   "cell_type": "code",
   "execution_count": 29,
   "metadata": {},
   "outputs": [
    {
     "data": {
      "image/png": "[encoded data removed]",
      "text/plain": [
       "<Figure size 640x480 with 1 Axes>"
      ]
     },
     "metadata": {},
     "output_type": "display_data"
    }
   ],
   "source": [
    "precision, recall, _ = precision_recall_curve(list_y_test[0], prediccions)\n",
    "plt.plot(recall, precision, color='red')\n",
    "plt.title('Corba Precision-Recall')\n",
    "plt.ylabel('Precision')\n",
    "plt.xlabel('Recall')\n",
    "plt.show()"
   ]
  },
  {
   "cell_type": "code",
   "execution_count": 40,
   "metadata": {},
   "outputs": [
    {
     "name": "stdout",
     "output_type": "stream",
     "text": [
      "AUPRC: 0.9675635983188006\n"
     ]
    }
   ],
   "source": [
    "from sklearn.metrics import auc\n",
    "auprc = auc(recall, precision)\n",
    "print(f'AUPRC: {auprc}')\n"
   ]
  },
  {
   "cell_type": "markdown",
   "metadata": {},
   "source": [
    "Com podem observar, la corba Precision-Recall té una tendència positiva apropant-se a la cantonada de dalt a la dreta, la qual cosa ens indica que el percentatge de Falsos Positius i Falsos Negatius és molt baix, tal i com hem vist abans. També es veu que les classes estan molt balancejades."
   ]
  },
  {
   "cell_type": "code",
   "execution_count": 30,
   "metadata": {},
   "outputs": [
    {
     "data": {
      "image/png": "[encoded data removed]",
      "text/plain": [
       "<Figure size 640x480 with 1 Axes>"
      ]
     },
     "metadata": {},
     "output_type": "display_data"
    }
   ],
   "source": [
    "fpr, tpr, _ = roc_curve(list_y_test[0].values, prediccions)\n",
    "plt.plot(fpr, tpr, color='red')\n",
    "plt.plot([0, 1], [0, 1], linestyle='--', color='grey')\n",
    "plt.title('Corba ROC')\n",
    "plt.ylabel('% Verdaders Positius')\n",
    "plt.xlabel('% Falsos Positius')\n",
    "plt.show()"
   ]
  },
  {
   "cell_type": "code",
   "execution_count": 41,
   "metadata": {},
   "outputs": [
    {
     "name": "stdout",
     "output_type": "stream",
     "text": [
      "ROC AUC: 0.9606019805752324\n"
     ]
    }
   ],
   "source": [
    "from sklearn.metrics import roc_auc_score\n",
    "\n",
    "roc_auc = roc_auc_score(list_y_test[0].values, prediccions)\n",
    "print(f'ROC AUC: {roc_auc}')"
   ]
  },
  {
   "cell_type": "markdown",
   "metadata": {},
   "source": [
    "Amb la corba ROC també podem observar que el model té un rendiment molt bo, apropant-se aquesta a la cantonada de dalt a l'esquerra, la qual cosa ens indica que l'ordre de classificació de les classes és molt correcte.\n",
    "\n",
    "\n",
    "### Sense Validació Creuada amb PCA\n",
    "\n",
    "Seguirem els mateixos passos que amb el model anterior per a dur a terme l'avaluació. \n",
    "Comencem prenent els valors de les mètriques esmentades per a cada nombre de components (de 2 a 10):"
   ]
  },
  {
   "cell_type": "code",
   "execution_count": 31,
   "metadata": {},
   "outputs": [
    {
     "name": "stdout",
     "output_type": "stream",
     "text": [
      "PCA: num_components=2 Accuracy: 0.9209323583180987 Precision: 0.9355595418793984 Recall: 0.9011164274322169\n",
      "PCA: num_components=3 Accuracy: 0.9207364847218595 Precision: 0.936496956281129 Recall: 0.8996544391281234\n",
      "PCA: num_components=4 Accuracy: 0.9327500652911987 Precision: 0.9515994436717663 Recall: 0.9093567251461988\n",
      "PCA: num_components=5 Accuracy: 0.9305301645338209 Precision: 0.948985265499027 Recall: 0.9073631047315258\n",
      "PCA: num_components=6 Accuracy: 0.9317706973100026 Precision: 0.9454145469544892 Recall: 0.9138755980861244\n",
      "PCA: num_components=7 Accuracy: 0.9335335596761557 Precision: 0.9489373447419266 Recall: 0.9138755980861244\n",
      "PCA: num_components=8 Accuracy: 0.9316401149125098 Precision: 0.9436909165639129 Recall: 0.9154704944178629\n",
      "PCA: num_components=9 Accuracy: 0.9335335596761557 Precision: 0.946105320899616 Recall: 0.9169324827219564\n",
      "PCA: num_components=10 Accuracy: 0.9330765212849308 Precision: 0.9459311101962399 Recall: 0.9161350345560871\n"
     ]
    }
   ],
   "source": [
    "from sklearn.metrics import accuracy_score, precision_score, recall_score, mean_squared_error\n",
    "accuracy_PCA = []\n",
    "precision_PCA = []\n",
    "recall_PCA = []\n",
    "mse_PCA = []\n",
    "prediccions_PCA = []\n",
    "for i in range(len(models_PCA)):\n",
    "    prediccions = models[1][i].predict(list_X_test[1][i])\n",
    "    prediccions_PCA.append(prediccions)\n",
    "    accuracy_PCA.append(accuracy_score(list_y_test[1], prediccions))\n",
    "    precision_PCA.append(precision_score(list_y_test[1], prediccions))\n",
    "    recall_PCA.append(recall_score(list_y_test[1], prediccions))\n",
    "    mse_PCA.append(mean_squared_error(list_y_test[1], prediccions))\n",
    "    print('PCA: num_components=' + str(i+2) + ' Accuracy: ' + str(accuracy_PCA[i]) + ' Precision: ' + str(precision_PCA[i]) + ' Recall: ' + str(recall_PCA[i]))"
   ]
  },
  {
   "cell_type": "code",
   "execution_count": 32,
   "metadata": {},
   "outputs": [
    {
     "name": "stdout",
     "output_type": "stream",
     "text": [
      "Error quadràtic mitjà per a PCA amb 2 components: 0.07906764168190128\n",
      "Error quadràtic mitjà per a PCA amb 3 components: 0.0792635152781405\n",
      "Error quadràtic mitjà per a PCA amb 4 components: 0.06724993470880125\n",
      "Error quadràtic mitjà per a PCA amb 5 components: 0.06946983546617916\n",
      "Error quadràtic mitjà per a PCA amb 6 components: 0.06822930268999738\n",
      "Error quadràtic mitjà per a PCA amb 7 components: 0.06646644032384434\n",
      "Error quadràtic mitjà per a PCA amb 8 components: 0.0683598850874902\n",
      "Error quadràtic mitjà per a PCA amb 9 components: 0.06646644032384434\n",
      "Error quadràtic mitjà per a PCA amb 10 components: 0.0669234787150692\n"
     ]
    }
   ],
   "source": [
    "for i in range(len(models_PCA)):\n",
    "    print('Error quadràtic mitjà per a PCA amb ' + str(i + 2) + ' components: ' + str(mse_PCA[i]))"
   ]
  },
  {
   "cell_type": "markdown",
   "metadata": {},
   "source": [
    "Podem observar que el valor de les mètriques va augmentant proporcionalment amb el nombre de components, però cap arriba als valors obtinguts amb l'anterior model (96-97%), potser degut a la baixa correlació entre moltes variables. \n",
    "Per altra banda, veiem també que l'Error Quadràtic Mitjà disminueix quan anem augmentant el nombre de variables, la qual cosa ens indica també que com més components, més fiable és el model.\n",
    "\n",
    "Per últim, comparem les corbes Precision-Recall i ROC per a n_components=2 i n_components=10 (els valors frontera):"
   ]
  },
  {
   "cell_type": "code",
   "execution_count": 33,
   "metadata": {},
   "outputs": [
    {
     "data": {
      "image/png": "[encoded data removed]",
      "text/plain": [
       "<Figure size 640x480 with 1 Axes>"
      ]
     },
     "metadata": {},
     "output_type": "display_data"
    }
   ],
   "source": [
    "precision, recall, _ = precision_recall_curve(list_y_test[1], prediccions_PCA[0])\n",
    "plt.plot(recall, precision, color='red')\n",
    "precision, recall, _ = precision_recall_curve(list_y_test[1], prediccions_PCA[-1])\n",
    "plt.plot(recall, precision, color='blue')\n",
    "plt.title('Corba Precision-Recall')\n",
    "plt.ylabel('Precision')\n",
    "plt.xlabel('Recall')\n",
    "plt.show()"
   ]
  },
  {
   "cell_type": "code",
   "execution_count": 34,
   "metadata": {},
   "outputs": [
    {
     "data": {
      "image/png": "[encoded data removed]",
      "text/plain": [
       "<Figure size 640x480 with 1 Axes>"
      ]
     },
     "metadata": {},
     "output_type": "display_data"
    }
   ],
   "source": [
    "fpr, tpr, _ = roc_curve(list_y_test[1].values, prediccions_PCA[0])\n",
    "plt.plot(fpr, tpr, color='red')\n",
    "fpr, tpr, _ = roc_curve(list_y_test[1].values, prediccions_PCA[-1])\n",
    "plt.plot(fpr, tpr, color='blue')\n",
    "plt.plot([0, 1], [0, 1], linestyle='--', color='grey')\n",
    "plt.title('Corba ROC')\n",
    "plt.ylabel('% Verdaders Positius')\n",
    "plt.xlabel('% Falsos Positius')\n",
    "plt.show()"
   ]
  },
  {
   "cell_type": "markdown",
   "metadata": {},
   "source": [
    "Podem veure que les dues corbes s'apropen a les cantonades en proporció amb l'augment de la seva dimensió.\n",
    "\n",
    "### Grid Search amb Validació Creuada\n",
    "\n",
    "Per últim, toca avaluar el model de Grid Search amb Validació Creuada, agafant els seus millors hiperparàmetres, els quals són: "
   ]
  },
  {
   "cell_type": "code",
   "execution_count": 35,
   "metadata": {},
   "outputs": [
    {
     "data": {
      "text/plain": [
       "{'C': 1, 'kernel': 'linear'}"
      ]
     },
     "execution_count": 35,
     "metadata": {},
     "output_type": "execute_result"
    }
   ],
   "source": [
    "modelGridSearch.best_params_"
   ]
  },
  {
   "cell_type": "markdown",
   "metadata": {},
   "source": [
    "Ara passem a mostrar la matriu de confusió:"
   ]
  },
  {
   "cell_type": "code",
   "execution_count": 36,
   "metadata": {},
   "outputs": [
    {
     "data": {
      "image/png": "[encoded data removed]",
      "text/plain": [
       "<Figure size 250x250 with 1 Axes>"
      ]
     },
     "metadata": {},
     "output_type": "display_data"
    }
   ],
   "source": [
    "prediccions = models[2].predict(list_X_test[2])\n",
    "cm = confusion_matrix(list_y_test[2], prediccions)\n",
    "fig, ax = plt.subplots(figsize=(2.5, 2.5))\n",
    "ax.matshow(cm, cmap=\"coolwarm\", alpha=0.3)\n",
    "for i in range(cm.shape[0]):\n",
    "    for j in range(cm.shape[1]):\n",
    "        ax.text(x=j, y=i,s=cm[i, j], va='center', ha='center')\n",
    "plt.title('Matriu de confusió')\n",
    "plt.xlabel('Valors Predits')\n",
    "plt.ylabel('Valors Reals')\n",
    "plt.show()"
   ]
  },
  {
   "cell_type": "markdown",
   "metadata": {},
   "source": [
    "Es pot observar que s'assembla bastant a la matriu de confusió del primer model, encara que els Verdaders Negatius han disminuït, mentres que els Verdaders Positius han augmentat una mica, però és molt similar, per tant, segueix sent un model molt bo amb un alt grau d'encerts.\n",
    "\n",
    "Passem a mirar les mètriques esmentades:"
   ]
  },
  {
   "cell_type": "code",
   "execution_count": 37,
   "metadata": {},
   "outputs": [
    {
     "name": "stdout",
     "output_type": "stream",
     "text": [
      "              precision    recall  f1-score   support\n",
      "\n",
      "           0       0.97      0.95      0.96      7792\n",
      "           1       0.95      0.97      0.96      7524\n",
      "\n",
      "    accuracy                           0.96     15316\n",
      "   macro avg       0.96      0.96      0.96     15316\n",
      "weighted avg       0.96      0.96      0.96     15316\n",
      "\n"
     ]
    }
   ],
   "source": [
    "print(classification_report(list_y_test[2], prediccions))"
   ]
  },
  {
   "cell_type": "markdown",
   "metadata": {},
   "source": [
    "Podem observar que dona resultats molt bons, però no superen encara els del primer model, que segueix sent el millor.\n",
    "\n",
    "Per últim, visualitzem les corbes Precision-Recall i ROC d'aquest últim model:"
   ]
  },
  {
   "cell_type": "code",
   "execution_count": 38,
   "metadata": {},
   "outputs": [
    {
     "data": {
      "image/png": "[encoded data removed]",
      "text/plain": [
       "<Figure size 640x480 with 1 Axes>"
      ]
     },
     "metadata": {},
     "output_type": "display_data"
    }
   ],
   "source": [
    "precision, recall, _ = precision_recall_curve(list_y_test[2], prediccions)\n",
    "plt.plot(recall, precision, color='red')\n",
    "plt.title('Corba Precision-Recall')\n",
    "plt.ylabel('Precision')\n",
    "plt.xlabel('Recall')\n",
    "plt.show()"
   ]
  },
  {
   "cell_type": "code",
   "execution_count": 39,
   "metadata": {},
   "outputs": [
    {
     "data": {
      "image/png": "[encoded data removed]",
      "text/plain": [
       "<Figure size 640x480 with 1 Axes>"
      ]
     },
     "metadata": {},
     "output_type": "display_data"
    }
   ],
   "source": [
    "fpr, tpr, _ = roc_curve(list_y_test[2].values, prediccions)\n",
    "plt.plot(fpr, tpr, color='red')\n",
    "plt.plot([0, 1], [0, 1], linestyle='--', color='grey')\n",
    "plt.title('Corba ROC')\n",
    "plt.ylabel('True Positive Rate')\n",
    "plt.xlabel('False Positive Rate')\n",
    "plt.show()"
   ]
  },
  {
   "cell_type": "markdown",
   "metadata": {},
   "source": [
    "Podem veure que les corbes segueixen la mateixa tendència que la resta de corbes dels altres models.\n",
    "\n",
    "## Conclusions\n",
    "\n",
    "Per últim, toca treure conclusions un cop avaluats els models.\n",
    "A continuació, tenim una taula que resumeix una mica la feina feta i els seus resultats: "
   ]
  },
  {
   "cell_type": "markdown",
   "metadata": {},
   "source": [
    "| Model | Hiperparàmetres | Accuracy | Precision | Recall |\n",
    "| ----- | --------------- | -------- | --------- | ------ |\n",
    "| Sense Validació Creuada | - | 0.96 | 0.96 | 0.96 |\n",
    "| Sense Validació Creuada (PCA: `n_components=2`) | - | 0.92 | 0.93 | 0.90 | \n",
    "| Sense Validació Creuada (PCA: `n_components=3`) | - | 0.92 | 0.93 | 0.90 | \n",
    "| Sense Validació Creuada (PCA: `n_components=4`) | - | 0.93 | 0.95 | 0.91 | \n",
    "| Sense Validació Creuada (PCA: `n_components=5`) | - | 0.93 | 0.95 | 0.91 | \n",
    "| Sense Validació Creuada (PCA: `n_components=6`) | - | 0.93 | 0.95 | 0.91 | \n",
    "| Sense Validació Creuada (PCA: `n_components=7`) | - | 0.93 | 0.95 | 0.92 | \n",
    "| Sense Validació Creuada (PCA: `n_components=8`) | - | 0.93 | 0.95 | 0.92 | \n",
    "| Sense Validació Creuada (PCA: `n_components=9`) | - | 0.93 | 0.95 | 0.91 | \n",
    "| Sense Validació Creuada (PCA: `n_components=10`) | - | 0.93 | 0.94 | 0.92 | \n",
    "| Grid Search amb Validació Creuada | `'C': [0.1, 1, 10], 'kernel': ['linear']` | 0.96 | 0.96 | 0.96 | "
   ]
  },
  {
   "cell_type": "markdown",
   "metadata": {},
   "source": [
    "Si ens fixem en la taula, podem deduïr ràpidament que els dos millors models són el primer i l'ultim, és a dir, el que no fa servir Validació Creuada, i el que fa un Grid Search amb Validació Creuada, ja que els valors de les seves mètriques són molt semblants, però si ens fixem en detall als resultats obtinguts, veuriem que el primer model és lleugerament millor. Adicionalment, el primer model comporta menys càrrega computacional que el que fa un Grid Search amb VC, sent molt més ràpid. \n",
    "En resum, el millor model que hem aconseguit és el que no fa servir Validació Creuada, amb valors entre 96-97% de accuracy, precision i recall, mentres que el pitjor ha sigut el que no fa servir Validació Creuada amb PCA amb 2 components, degut a la poca informació que ens proporcionen tan poques característiques."
   ]
  }
 ],
 "metadata": {
  "kernelspec": {
   "display_name": "Python 3",
   "language": "python",
   "name": "python3"
  },
  "language_info": {
   "codemirror_mode": {
    "name": "ipython",
    "version": 3
   },
   "file_extension": ".py",
   "mimetype": "text/x-python",
   "name": "python",
   "nbconvert_exporter": "python",
   "pygments_lexer": "ipython3",
   "version": "3.9.13"
  },
  "orig_nbformat": 4
 },
 "nbformat": 4,
 "nbformat_minor": 2
}
